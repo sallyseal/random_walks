{
 "cells": [
  {
   "cell_type": "code",
   "execution_count": 39,
   "metadata": {},
   "outputs": [],
   "source": [
    "epsilon = 0.1;\n",
    "delta_SI = rand(100);\n",
    "m = rand(100);"
   ]
  },
  {
   "cell_type": "code",
   "execution_count": 5,
   "metadata": {},
   "outputs": [
    {
     "ename": "LoadError",
     "evalue": "\u001b[91mMethodError: no method matching eachindex(::Float64)\u001b[0m\nClosest candidates are:\n  eachindex(\u001b[91m::Cmd\u001b[39m) at /home/megan/.julia/v0.6/Compat/src/Compat.jl:363\n  eachindex(\u001b[91m::Tuple\u001b[39m) at tuple.jl:40\n  eachindex(\u001b[91m::Tuple\u001b[39m, \u001b[91m::Tuple...\u001b[39m) at tuple.jl:43\n  ...\u001b[39m",
     "output_type": "error",
     "traceback": [
      "\u001b[91mMethodError: no method matching eachindex(::Float64)\u001b[0m\nClosest candidates are:\n  eachindex(\u001b[91m::Cmd\u001b[39m) at /home/megan/.julia/v0.6/Compat/src/Compat.jl:363\n  eachindex(\u001b[91m::Tuple\u001b[39m) at tuple.jl:40\n  eachindex(\u001b[91m::Tuple\u001b[39m, \u001b[91m::Tuple...\u001b[39m) at tuple.jl:43\n  ...\u001b[39m",
      "",
      "Stacktrace:",
      " [1] \u001b[1mmacro expansion\u001b[22m\u001b[22m at \u001b[1m./In[5]:3\u001b[22m\u001b[22m [inlined]",
      " [2] \u001b[1manonymous\u001b[22m\u001b[22m at \u001b[1m./<missing>:?\u001b[22m\u001b[22m"
     ]
    }
   ],
   "source": [
    "for n in eachindex(delta_SI)\n",
    "    y = delta_SI[n]\n",
    "    for m in eachindex(y)\n",
    "        y[m]\n",
    "    end\n",
    "end"
   ]
  },
  {
   "cell_type": "code",
   "execution_count": 23,
   "metadata": {},
   "outputs": [
    {
     "name": "stdout",
     "output_type": "stream",
     "text": [
      "(1100,)\n"
     ]
    }
   ],
   "source": [
    "accepted_m = Float64[]\n",
    "for i in delta_SI\n",
    "    for j in m\n",
    "        if i <= epsilon\n",
    "            push!(accepted_m, j)\n",
    "        end\n",
    "    end\n",
    "end\n",
    "# println(accepted_m)\n",
    "println(size(accepted_m))"
   ]
  },
  {
   "cell_type": "code",
   "execution_count": 71,
   "metadata": {},
   "outputs": [
    {
     "name": "stdout",
     "output_type": "stream",
     "text": [
      "delta_SI: [0.00228252, 0.813221, 0.847516, 0.37781, 0.0582734, 0.00945643, 0.195872, 0.933982, 0.15876, 0.104825]\n",
      "m:[0.763823, 0.109255, 0.0302689, 0.809984, 0.636001, 0.972492, 0.435124, 0.577594, 0.00976099, 0.853821]\n",
      "accepted_m: [0.763823, 0.109255, 0.0302689, 0.809984, 0.636001, 0.972492, 0.435124, 0.577594, 0.00976099, 0.853821, 0.763823, 0.109255, 0.0302689, 0.809984, 0.636001, 0.972492, 0.435124, 0.577594, 0.00976099, 0.853821, 0.763823, 0.109255, 0.0302689, 0.809984, 0.636001, 0.972492, 0.435124, 0.577594, 0.00976099, 0.853821]\n",
      "(30,)\n"
     ]
    }
   ],
   "source": [
    "epsilon = 0.1;\n",
    "delta_SI = rand(10);\n",
    "m = rand(10);\n",
    "\n",
    "println(\"delta_SI: \", delta_SI)\n",
    "println(\"m:\", m)\n",
    "\n",
    "accepted_m = Float64[]\n",
    "\n",
    "for i in delta_SI, j in m\n",
    "    if i <= epsilon\n",
    "        push!(accepted_m, j)\n",
    "    end\n",
    "end\n",
    "println(\"accepted_m: \", accepted_m)\n",
    "println(size(accepted_m))"
   ]
  },
  {
   "cell_type": "code",
   "execution_count": null,
   "metadata": {},
   "outputs": [],
   "source": []
  },
  {
   "cell_type": "code",
   "execution_count": 1,
   "metadata": {},
   "outputs": [
    {
     "name": "stdout",
     "output_type": "stream",
     "text": [
      "[0.929337, 0.181666, 0.711052, 0.831504, 0.93915, 0.0454489, 0.858088, 0.0110197, 0.942866, 0.601833]\n",
      "[0.181666, 0.0454489, 0.0110197, 0.601833]\n"
     ]
    }
   ],
   "source": [
    "epsilon = 0.7;\n",
    "delta_SI = rand(10);\n",
    "m = rand(10);\n",
    "\n",
    "println(delta_SI)\n",
    "\n",
    "small_delta = Float64[]\n",
    "\n",
    "for i in delta_SI\n",
    "    if i <= epsilon\n",
    "        push!(small_delta, i)\n",
    "    end\n",
    "end\n",
    "println(small_delta)"
   ]
  },
  {
   "cell_type": "code",
   "execution_count": 7,
   "metadata": {},
   "outputs": [
    {
     "name": "stdout",
     "output_type": "stream",
     "text": [
      "delta_SI: [0.688013, 0.215071, 0.122577, 0.571179, 0.197817, 0.164717, 0.0642726, 0.7907, 0.487894, 0.35659]\n",
      "m: [0.404296, 0.61045, 0.713394, 0.921222, 0.286018, 0.284828, 0.655715, 0.314621, 0.77799, 0.201596]\n",
      "(0.6880132320067358, 0.4042960418072472)\n",
      "(0.2150705467248193, 0.6104495095306495)\n",
      "(0.12257707210582791, 0.7133942388513257)\n",
      "(0.5711788186109792, 0.9212218744724285)\n",
      "(0.19781675334088256, 0.28601821955783757)\n",
      "(0.16471663972991424, 0.2848278703030469)\n",
      "(0.06427262524820199, 0.6557154441705078)\n",
      "(0.7906996766592629, 0.31462128028862213)\n",
      "(0.4878938429576496, 0.777990043337188)\n",
      "(0.3565904324016085, 0.20159601619479006)\n",
      "accepted m: [0.61045, 0.713394, 0.921222, 0.286018, 0.284828, 0.655715, 0.77799, 0.201596]\n"
     ]
    }
   ],
   "source": [
    "epsilon = 0.6\n",
    "delta_SI = rand(10);\n",
    "m = rand(10);\n",
    "println(\"delta_SI: \", delta_SI)\n",
    "println(\"m: \", m)\n",
    "list = zip(delta_SI, m)\n",
    "\n",
    "for i in list\n",
    "    println(i)\n",
    "end\n",
    "\n",
    "accepted_m = Float64[]\n",
    "\n",
    "for i in list\n",
    "    if i[1]<= epsilon\n",
    "        push!(accepted_m, i[2])\n",
    "    end\n",
    "end\n",
    "println(\"accepted m: \", accepted_m)"
   ]
  },
  {
   "cell_type": "code",
   "execution_count": null,
   "metadata": {},
   "outputs": [],
   "source": []
  }
 ],
 "metadata": {
  "kernelspec": {
   "display_name": "Julia 0.6.2",
   "language": "julia",
   "name": "julia-0.6"
  },
  "language_info": {
   "file_extension": ".jl",
   "mimetype": "application/julia",
   "name": "julia",
   "version": "0.6.2"
  }
 },
 "nbformat": 4,
 "nbformat_minor": 2
}
