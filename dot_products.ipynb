{
 "cells": [
  {
   "cell_type": "code",
   "execution_count": 1,
   "metadata": {},
   "outputs": [
    {
     "ename": "LoadError",
     "evalue": "\u001b[91mMethodError: no method matching *(::Tuple{Int64,Int64,Int64}, ::Tuple{Int64,Int64,Int64})\u001b[0m\nClosest candidates are:\n  *(::Any, ::Any, \u001b[91m::Any\u001b[39m, \u001b[91m::Any...\u001b[39m) at operators.jl:424\u001b[39m",
     "output_type": "error",
     "traceback": [
      "\u001b[91mMethodError: no method matching *(::Tuple{Int64,Int64,Int64}, ::Tuple{Int64,Int64,Int64})\u001b[0m\nClosest candidates are:\n  *(::Any, ::Any, \u001b[91m::Any\u001b[39m, \u001b[91m::Any...\u001b[39m) at operators.jl:424\u001b[39m",
      ""
     ]
    }
   ],
   "source": []
  },
  {
   "cell_type": "code",
   "execution_count": 7,
   "metadata": {},
   "outputs": [
    {
     "data": {
      "text/plain": [
       "(-3, 4, 3)"
      ]
     },
     "execution_count": 7,
     "metadata": {},
     "output_type": "execute_result"
    }
   ],
   "source": [
    "x = (-3,4,3)"
   ]
  },
  {
   "cell_type": "code",
   "execution_count": 8,
   "metadata": {},
   "outputs": [
    {
     "data": {
      "text/plain": [
       "(-1, 5, -3)"
      ]
     },
     "execution_count": 8,
     "metadata": {},
     "output_type": "execute_result"
    }
   ],
   "source": [
    "y = (-1,5,-3)"
   ]
  },
  {
   "cell_type": "code",
   "execution_count": 10,
   "metadata": {},
   "outputs": [
    {
     "data": {
      "text/plain": [
       "14"
      ]
     },
     "execution_count": 10,
     "metadata": {},
     "output_type": "execute_result"
    }
   ],
   "source": [
    "vecdot(x,y)"
   ]
  },
  {
   "cell_type": "code",
   "execution_count": 11,
   "metadata": {},
   "outputs": [
    {
     "ename": "LoadError",
     "evalue": "\u001b[91mMethodError: no method matching cross(::Tuple{Int64,Int64,Int64}, ::Tuple{Int64,Int64,Int64})\u001b[39m",
     "output_type": "error",
     "traceback": [
      "\u001b[91mMethodError: no method matching cross(::Tuple{Int64,Int64,Int64}, ::Tuple{Int64,Int64,Int64})\u001b[39m",
      ""
     ]
    }
   ],
   "source": []
  },
  {
   "cell_type": "code",
   "execution_count": 12,
   "metadata": {},
   "outputs": [
    {
     "data": {
      "text/plain": [
       "14"
      ]
     },
     "execution_count": 12,
     "metadata": {},
     "output_type": "execute_result"
    }
   ],
   "source": [
    "sum(x.*y)"
   ]
  },
  {
   "cell_type": "code",
   "execution_count": null,
   "metadata": {},
   "outputs": [],
   "source": [
    "# Function that calculates the angle between two vectors in 3Dim space\n",
    "# Input is 2 points in 3D space eg (1,2,3) and (4,5,6)\n",
    "# Output is in radians and degrees\n",
    "\n",
    "# Can use vecdot to get the numerator\n",
    "# Write custom code for denominator \n",
    "x = (-3,4,3)\n",
    "y = (-1,5,-3)\n",
    "a = vecdot(x,y)\n",
    "\n",
    "cos(theta) = a/sqrt(x[1]^2 + x[2]^2)"
   ]
  },
  {
   "cell_type": "code",
   "execution_count": 8,
   "metadata": {},
   "outputs": [
    {
     "ename": "LoadError",
     "evalue": "\u001b[91mMethodError: no method matching rand(::Int64, ::Distributions.Truncated{Distributions.Normal{Float64},Distributions.Continuous})\u001b[0m\nClosest candidates are:\n  rand(\u001b[91m::Integer...\u001b[39m) at random.jl:285\u001b[39m",
     "output_type": "error",
     "traceback": [
      "\u001b[91mMethodError: no method matching rand(::Int64, ::Distributions.Truncated{Distributions.Normal{Float64},Distributions.Continuous})\u001b[0m\nClosest candidates are:\n  rand(\u001b[91m::Integer...\u001b[39m) at random.jl:285\u001b[39m",
      ""
     ]
    }
   ],
   "source": [
    "using Distributions;\n",
    "using StatPlots;\n",
    "using PyPlot;\n",
    "\n",
    "rand(TruncatedNormal(0,1, -pi, pi))"
   ]
  },
  {
   "cell_type": "code",
   "execution_count": 10,
   "metadata": {},
   "outputs": [
    {
     "ename": "LoadError",
     "evalue": "\u001b[91mUndefVarError: plot not defined\u001b[39m",
     "output_type": "error",
     "traceback": [
      "\u001b[91mUndefVarError: plot not defined\u001b[39m",
      ""
     ]
    }
   ],
   "source": [
    "using StatPlots;\n",
    "x = randn(20)"
   ]
  },
  {
   "cell_type": "code",
   "execution_count": null,
   "metadata": {},
   "outputs": [],
   "source": []
  }
 ],
 "metadata": {
  "kernelspec": {
   "display_name": "Julia 0.6.2",
   "language": "julia",
   "name": "julia-0.6"
  },
  "language_info": {
   "file_extension": ".jl",
   "mimetype": "application/julia",
   "name": "julia",
   "version": "0.6.2"
  }
 },
 "nbformat": 4,
 "nbformat_minor": 2
}
