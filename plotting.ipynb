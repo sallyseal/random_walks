{
 "cells": [
  {
   "cell_type": "code",
   "execution_count": 1,
   "metadata": {},
   "outputs": [
    {
     "name": "stderr",
     "output_type": "stream",
     "text": [
      "\u001b[1m\u001b[36mINFO: \u001b[39m\u001b[22m\u001b[36mRecompiling stale cache file /home/megan/.julia/lib/v0.6/CodecZlib.ji for module CodecZlib.\n",
      "\u001b[39m\u001b[1m\u001b[36mINFO: \u001b[39m\u001b[22m\u001b[36mRecompiling stale cache file /home/megan/.julia/lib/v0.6/DataFrames.ji for module DataFrames.\n",
      "\u001b[39m\u001b[1m\u001b[36mINFO: \u001b[39m\u001b[22m\u001b[36mRecompiling stale cache file /home/megan/.julia/lib/v0.6/Gadfly.ji for module Gadfly.\n",
      "\u001b[39m"
     ]
    }
   ],
   "source": [
    "using Distributions;\n",
    "using Gadfly;\n",
    "using PyPlot;\n",
    "using StatsBase;"
   ]
  },
  {
   "cell_type": "code",
   "execution_count": 24,
   "metadata": {},
   "outputs": [
    {
     "ename": "LoadError",
     "evalue": "\u001b[91mMethodError: no method matching quantile(::Distributions.VonMises{Float64}, ::Float64)\u001b[0m\nClosest candidates are:\n  quantile(\u001b[91m::Distributions.DiscreteUniform\u001b[39m, ::Float64) at /home/megan/.julia/v0.6/Distributions/src/univariate/discrete/discreteuniform.jl:81\n  quantile(\u001b[91m::Distributions.EmpiricalUnivariateDistribution\u001b[39m, ::Float64) at /home/megan/.julia/v0.6/Distributions/src/empirical.jl:61\n  quantile(\u001b[91m::Distributions.Hypergeometric\u001b[39m, ::Real) at /home/megan/.julia/v0.6/Distributions/src/univariates.jl:547\n  ...\u001b[39m",
     "output_type": "error",
     "traceback": [
      "\u001b[91mMethodError: no method matching quantile(::Distributions.VonMises{Float64}, ::Float64)\u001b[0m\nClosest candidates are:\n  quantile(\u001b[91m::Distributions.DiscreteUniform\u001b[39m, ::Float64) at /home/megan/.julia/v0.6/Distributions/src/univariate/discrete/discreteuniform.jl:81\n  quantile(\u001b[91m::Distributions.EmpiricalUnivariateDistribution\u001b[39m, ::Float64) at /home/megan/.julia/v0.6/Distributions/src/empirical.jl:61\n  quantile(\u001b[91m::Distributions.Hypergeometric\u001b[39m, ::Real) at /home/megan/.julia/v0.6/Distributions/src/univariates.jl:547\n  ...\u001b[39m",
      "",
      "Stacktrace:",
      " [1] \u001b[1mrand\u001b[22m\u001b[22m\u001b[1m(\u001b[22m\u001b[22m::Distributions.VonMises{Float64}\u001b[1m)\u001b[22m\u001b[22m at \u001b[1m/home/megan/.julia/v0.6/Distributions/src/univariates.jl:173\u001b[22m\u001b[22m",
      " [2] \u001b[1mrand\u001b[22m\u001b[22m\u001b[1m(\u001b[22m\u001b[22m::Distributions.Truncated{Distributions.VonMises{Float64},Distributions.Continuous}\u001b[1m)\u001b[22m\u001b[22m at \u001b[1m/home/megan/.julia/v0.6/Distributions/src/truncate.jl:86\u001b[22m\u001b[22m",
      " [3] \u001b[1m_rand!\u001b[22m\u001b[22m\u001b[1m(\u001b[22m\u001b[22m::Distributions.Truncated{Distributions.VonMises{Float64},Distributions.Continuous}, ::Array{Float64,1}\u001b[1m)\u001b[22m\u001b[22m at \u001b[1m/home/megan/.julia/v0.6/Distributions/src/genericrand.jl:37\u001b[22m\u001b[22m",
      " [4] \u001b[1mrand\u001b[22m\u001b[22m\u001b[1m(\u001b[22m\u001b[22m::Distributions.Truncated{Distributions.VonMises{Float64},Distributions.Continuous}, ::Int64\u001b[1m)\u001b[22m\u001b[22m at \u001b[1m/home/megan/.julia/v0.6/Distributions/src/univariates.jl:182\u001b[22m\u001b[22m",
      " [5] \u001b[1minclude_string\u001b[22m\u001b[22m\u001b[1m(\u001b[22m\u001b[22m::String, ::String\u001b[1m)\u001b[22m\u001b[22m at \u001b[1m./loading.jl:522\u001b[22m\u001b[22m"
     ]
    }
   ],
   "source": [
    "a = Truncated(VonMises(3,4),0,pi)\n",
    "x = rand(a,2)"
   ]
  },
  {
   "cell_type": "code",
   "execution_count": 12,
   "metadata": {},
   "outputs": [
    {
     "data": {
      "text/plain": [
       "2-element Array{Float64,1}:\n",
       " 0.998014\n",
       " 0.347548"
      ]
     },
     "execution_count": 12,
     "metadata": {},
     "output_type": "execute_result"
    }
   ],
   "source": [
    "rand(2)"
   ]
  },
  {
   "cell_type": "code",
   "execution_count": 23,
   "metadata": {},
   "outputs": [
    {
     "name": "stdout",
     "output_type": "stream",
     "text": [
      "search: "
     ]
    },
    {
     "data": {
      "text/markdown": [
       "```\n",
       "rand([rng=GLOBAL_RNG], [S], [dims...])\n",
       "```\n",
       "\n",
       "Pick a random element or array of random elements from the set of values specified by `S`; `S` can be\n",
       "\n",
       "  * an indexable collection (for example `1:n` or `['x','y','z']`), or\n",
       "  * a type: the set of values to pick from is then equivalent to `typemin(S):typemax(S)` for integers (this is not applicable to [`BigInt`](@ref)), and to $[0, 1)$ for floating point numbers;\n",
       "\n",
       "`S` defaults to [`Float64`](@ref).\n",
       "\n",
       "```\n",
       "rand(s::Sampleable)\n",
       "```\n",
       "\n",
       "Generate one sample for `s`.\n",
       "\n",
       "```\n",
       "rand(s::Sampleable, n::Int)\n",
       "```\n",
       "\n",
       "Generate `n` samples from `s`. The form of the returned object depends on the variate form of `s`:\n",
       "\n",
       "  * When `s` is univariate, it returns a vector of length `n`.\n",
       "  * When `s` is multivariate, it returns a matrix with `n` columns.\n",
       "  * When `s` is matrix-variate, it returns an array, where each element is a sample matrix.\n",
       "\n",
       "```\n",
       "rand(d::UnivariateDistribution)\n",
       "```\n",
       "\n",
       "Generate a scalar sample from `d`. The general fallback is `quantile(d, rand())`.\n",
       "\n",
       "```\n",
       "rand(d::UnivariateDistribution, n::Int) -> Vector\n",
       "```\n",
       "\n",
       "Generates a vector of `n` random scalar samples from `d`. The general fallback is to pick random samples from `sampler(d)`.\n",
       "\n",
       "```\n",
       "rand(d::MultivariateDistribution)\n",
       "```\n",
       "\n",
       "Sample a vector from the distribution `d`.\n",
       "\n",
       "```\n",
       "rand(d::MultivariateDistribution, n::Int) -> Vector\n",
       "```\n",
       "\n",
       "Sample n vectors from the distribution `d`. This returns a matrix of size `(dim(d), n)`, where each column is a sample.\n",
       "\n",
       "```\n",
       "rand(rng::AbstractRNG, d::AbstractMvNormal)\n",
       "rand(rng::AbstractRNG, d::AbstractMvNormal, n::Int)\n",
       "rand!(rng::AbstractRNG, d::AbstractMvNormal, x::AbstractArray)\n",
       "```\n",
       "\n",
       "Sample from distribution `d` using the random number generator `rng`.\n",
       "\n",
       "```\n",
       "rand(d::MatrixDistribution, n)\n",
       "```\n",
       "\n",
       "Draw a sample matrix from the distribution `d`.\n",
       "\n",
       "```\n",
       "rand(d::Union{UnivariateMixture, MultivariateDistribution})\n",
       "```\n",
       "\n",
       "Draw a sample from the mixture model `d`.\n",
       "\n",
       "```\n",
       "rand(d::Union{UnivariateMixture, MultivariateMixture}, n)\n",
       "```\n",
       "\n",
       "Draw `n` samples from `d`.\n"
      ],
      "text/plain": [
       "```\n",
       "rand([rng=GLOBAL_RNG], [S], [dims...])\n",
       "```\n",
       "\n",
       "Pick a random element or array of random elements from the set of values specified by `S`; `S` can be\n",
       "\n",
       "  * an indexable collection (for example `1:n` or `['x','y','z']`), or\n",
       "  * a type: the set of values to pick from is then equivalent to `typemin(S):typemax(S)` for integers (this is not applicable to [`BigInt`](@ref)), and to $[0, 1)$ for floating point numbers;\n",
       "\n",
       "`S` defaults to [`Float64`](@ref).\n",
       "\n",
       "```\n",
       "rand(s::Sampleable)\n",
       "```\n",
       "\n",
       "Generate one sample for `s`.\n",
       "\n",
       "```\n",
       "rand(s::Sampleable, n::Int)\n",
       "```\n",
       "\n",
       "Generate `n` samples from `s`. The form of the returned object depends on the variate form of `s`:\n",
       "\n",
       "  * When `s` is univariate, it returns a vector of length `n`.\n",
       "  * When `s` is multivariate, it returns a matrix with `n` columns.\n",
       "  * When `s` is matrix-variate, it returns an array, where each element is a sample matrix.\n",
       "\n",
       "```\n",
       "rand(d::UnivariateDistribution)\n",
       "```\n",
       "\n",
       "Generate a scalar sample from `d`. The general fallback is `quantile(d, rand())`.\n",
       "\n",
       "```\n",
       "rand(d::UnivariateDistribution, n::Int) -> Vector\n",
       "```\n",
       "\n",
       "Generates a vector of `n` random scalar samples from `d`. The general fallback is to pick random samples from `sampler(d)`.\n",
       "\n",
       "```\n",
       "rand(d::MultivariateDistribution)\n",
       "```\n",
       "\n",
       "Sample a vector from the distribution `d`.\n",
       "\n",
       "```\n",
       "rand(d::MultivariateDistribution, n::Int) -> Vector\n",
       "```\n",
       "\n",
       "Sample n vectors from the distribution `d`. This returns a matrix of size `(dim(d), n)`, where each column is a sample.\n",
       "\n",
       "```\n",
       "rand(rng::AbstractRNG, d::AbstractMvNormal)\n",
       "rand(rng::AbstractRNG, d::AbstractMvNormal, n::Int)\n",
       "rand!(rng::AbstractRNG, d::AbstractMvNormal, x::AbstractArray)\n",
       "```\n",
       "\n",
       "Sample from distribution `d` using the random number generator `rng`.\n",
       "\n",
       "```\n",
       "rand(d::MatrixDistribution, n)\n",
       "```\n",
       "\n",
       "Draw a sample matrix from the distribution `d`.\n",
       "\n",
       "```\n",
       "rand(d::Union{UnivariateMixture, MultivariateDistribution})\n",
       "```\n",
       "\n",
       "Draw a sample from the mixture model `d`.\n",
       "\n",
       "```\n",
       "rand(d::Union{UnivariateMixture, MultivariateMixture}, n)\n",
       "```\n",
       "\n",
       "Draw `n` samples from `d`.\n"
      ]
     },
     "execution_count": 23,
     "metadata": {},
     "output_type": "execute_result"
    },
    {
     "name": "stdout",
     "output_type": "stream",
     "text": [
      "\u001b[1mr\u001b[22m\u001b[1ma\u001b[22m\u001b[1mn\u001b[22m\u001b[1md\u001b[22m \u001b[1mr\u001b[22m\u001b[1ma\u001b[22m\u001b[1mn\u001b[22m\u001b[1md\u001b[22mn \u001b[1mr\u001b[22m\u001b[1ma\u001b[22m\u001b[1mn\u001b[22m\u001b[1md\u001b[22m! \u001b[1mr\u001b[22m\u001b[1ma\u001b[22m\u001b[1mn\u001b[22m\u001b[1md\u001b[22mi \u001b[1mr\u001b[22m\u001b[1ma\u001b[22m\u001b[1mn\u001b[22m\u001b[1md\u001b[22mn! \u001b[1mr\u001b[22m\u001b[1ma\u001b[22m\u001b[1mn\u001b[22m\u001b[1md\u001b[22mexp \u001b[1mr\u001b[22m\u001b[1ma\u001b[22m\u001b[1mn\u001b[22m\u001b[1md\u001b[22mperm \u001b[1mr\u001b[22m\u001b[1ma\u001b[22m\u001b[1mn\u001b[22m\u001b[1md\u001b[22mjump \u001b[1mr\u001b[22m\u001b[1ma\u001b[22m\u001b[1mn\u001b[22m\u001b[1md\u001b[22mexp!\n",
      "\n"
     ]
    }
   ],
   "source": [
    "?rand\n"
   ]
  },
  {
   "cell_type": "code",
   "execution_count": null,
   "metadata": {},
   "outputs": [],
   "source": []
  },
  {
   "cell_type": "code",
   "execution_count": 28,
   "metadata": {},
   "outputs": [
    {
     "data": {
      "text/plain": [
       "Distributions.VonMisesFisher{Float64}(μ=[0.303449, 0.151724, 0.940691], κ=3.2954514106568165)"
      ]
     },
     "execution_count": 28,
     "metadata": {},
     "output_type": "execute_result"
    }
   ],
   "source": [
    "# von mises fisher distribution for p = 3 is a 3 dimensional distribution on unit sphere\n",
    "# u is the mean direction\n",
    "# k is the concentration - higher k means stronger migration towards mu\n",
    "\n",
    "VonMisesFisher([1,0.5,3.1])"
   ]
  },
  {
   "cell_type": "code",
   "execution_count": 62,
   "metadata": {},
   "outputs": [
    {
     "data": {
      "text/plain": [
       "1-element Array{Float64,1}:\n",
       " 3.04102"
      ]
     },
     "execution_count": 62,
     "metadata": {},
     "output_type": "execute_result"
    }
   ],
   "source": [
    "rand(VonMises(3, 4.5),1)"
   ]
  },
  {
   "cell_type": "code",
   "execution_count": 64,
   "metadata": {},
   "outputs": [
    {
     "name": "stdout",
     "output_type": "stream",
     "text": [
      "Float64\n"
     ]
    }
   ],
   "source": [
    "theta = acos(1-2*rand())\n",
    "println(typeof(theta))"
   ]
  },
  {
   "cell_type": "code",
   "execution_count": 16,
   "metadata": {},
   "outputs": [
    {
     "data": {
      "text/plain": [
       "Distributions.VonMisesFisher{Float64}(μ=[0.707107, 0.707107], κ=1.4142135623730951)"
      ]
     },
     "execution_count": 16,
     "metadata": {},
     "output_type": "execute_result"
    }
   ],
   "source": [
    "VonMisesFisher([1,1])"
   ]
  },
  {
   "cell_type": "code",
   "execution_count": 30,
   "metadata": {},
   "outputs": [
    {
     "data": {
      "text/plain": [
       "2-element Array{Float64,1}:\n",
       " 0.191437\n",
       " 0.981505"
      ]
     },
     "execution_count": 30,
     "metadata": {},
     "output_type": "execute_result"
    }
   ],
   "source": [
    "rand(VonMisesFisher([1,1]))"
   ]
  },
  {
   "cell_type": "code",
   "execution_count": 21,
   "metadata": {},
   "outputs": [
    {
     "data": {
      "text/plain": [
       "Distributions.VonMisesFisher{Float64}(μ=[0.408248, 0.408248, 0.816497], κ=2.449489742783178)"
      ]
     },
     "execution_count": 21,
     "metadata": {},
     "output_type": "execute_result"
    }
   ],
   "source": [
    "VonMisesFisher([1,1,2])"
   ]
  },
  {
   "cell_type": "code",
   "execution_count": 15,
   "metadata": {},
   "outputs": [
    {
     "data": {
      "text/plain": [
       "3-element Array{Float64,1}:\n",
       " -0.0783382\n",
       "  0.653183 \n",
       " -0.753137 "
      ]
     },
     "execution_count": 15,
     "metadata": {},
     "output_type": "execute_result"
    }
   ],
   "source": [
    "rand(VonMisesFisher([1,1,2]))"
   ]
  },
  {
   "cell_type": "code",
   "execution_count": 10,
   "metadata": {},
   "outputs": [
    {
     "data": {
      "text/plain": [
       "Distributions.VonMisesFisher{Float64}(μ=[0.707107, 0.707107, 0.0], κ=1.4142135623730951)"
      ]
     },
     "execution_count": 10,
     "metadata": {},
     "output_type": "execute_result"
    }
   ],
   "source": [
    "VonMisesFisher([1,1,0])"
   ]
  },
  {
   "cell_type": "code",
   "execution_count": 8,
   "metadata": {},
   "outputs": [
    {
     "data": {
      "text/plain": [
       "Distributions.VonMisesFisher{Float64}(μ=[1.0, 0.0], κ=1.0)"
      ]
     },
     "execution_count": 8,
     "metadata": {},
     "output_type": "execute_result"
    }
   ],
   "source": [
    "VonMisesFisher([1,0])"
   ]
  },
  {
   "cell_type": "code",
   "execution_count": 16,
   "metadata": {},
   "outputs": [
    {
     "name": "stdout",
     "output_type": "stream",
     "text": [
      "Any[Distributions.VonMisesFisher{Float64}(μ=[0.707107, 0.707107, 0.0], κ=1.41421), Distributions.VonMisesFisher{Float64}(μ=[0.707107, 0.707107, 0.0], κ=1.41421), Distributions.VonMisesFisher{Float64}(μ=[0.707107, 0.707107, 0.0], κ=1.41421), Distributions.VonMisesFisher{Float64}(μ=[0.707107, 0.707107, 0.0], κ=1.41421), Distributions.VonMisesFisher{Float64}(μ=[0.707107, 0.707107, 0.0], κ=1.41421), Distributions.VonMisesFisher{Float64}(μ=[0.707107, 0.707107, 0.0], κ=1.41421), Distributions.VonMisesFisher{Float64}(μ=[0.707107, 0.707107, 0.0], κ=1.41421), Distributions.VonMisesFisher{Float64}(μ=[0.707107, 0.707107, 0.0], κ=1.41421), Distributions.VonMisesFisher{Float64}(μ=[0.707107, 0.707107, 0.0], κ=1.41421), Distributions.VonMisesFisher{Float64}(μ=[0.707107, 0.707107, 0.0], κ=1.41421), Distributions.VonMisesFisher{Float64}(μ=[0.707107, 0.707107, 0.0], κ=1.41421), Distributions.VonMisesFisher{Float64}(μ=[0.707107, 0.707107, 0.0], κ=1.41421), Distributions.VonMisesFisher{Float64}(μ=[0.707107, 0.707107, 0.0], κ=1.41421), Distributions.VonMisesFisher{Float64}(μ=[0.707107, 0.707107, 0.0], κ=1.41421), Distributions.VonMisesFisher{Float64}(μ=[0.707107, 0.707107, 0.0], κ=1.41421), Distributions.VonMisesFisher{Float64}(μ=[0.707107, 0.707107, 0.0], κ=1.41421), Distributions.VonMisesFisher{Float64}(μ=[0.707107, 0.707107, 0.0], κ=1.41421), Distributions.VonMisesFisher{Float64}(μ=[0.707107, 0.707107, 0.0], κ=1.41421), Distributions.VonMisesFisher{Float64}(μ=[0.707107, 0.707107, 0.0], κ=1.41421), Distributions.VonMisesFisher{Float64}(μ=[0.707107, 0.707107, 0.0], κ=1.41421)]\n"
     ]
    }
   ],
   "source": [
    "x = []\n",
    "update = [1,1,0]\n",
    "for i in 1:20\n",
    "    point = VonMisesFisher(update)\n",
    "    push!(x, point)\n",
    "    update = point\n",
    "end\n",
    "println(x)"
   ]
  },
  {
   "cell_type": "code",
   "execution_count": 61,
   "metadata": {},
   "outputs": [
    {
     "ename": "LoadError",
     "evalue": "\u001b[91mPyError (ccall(@pysym(:PyObject_Call), PyPtr, (PyPtr, PyPtr, PyPtr), o, arg, kw)) <class 'TypeError'>\nTypeError(\"'module' object is not callable\",)\n\u001b[39m",
     "output_type": "error",
     "traceback": [
      "\u001b[91mPyError (ccall(@pysym(:PyObject_Call), PyPtr, (PyPtr, PyPtr, PyPtr), o, arg, kw)) <class 'TypeError'>\nTypeError(\"'module' object is not callable\",)\n\u001b[39m",
      "",
      "Stacktrace:",
      " [1] \u001b[1mpyerr_check\u001b[22m\u001b[22m at \u001b[1m/home/megan/.julia/v0.6/PyCall/src/exception.jl:60\u001b[22m\u001b[22m [inlined]",
      " [2] \u001b[1mpyerr_check\u001b[22m\u001b[22m at \u001b[1m/home/megan/.julia/v0.6/PyCall/src/exception.jl:64\u001b[22m\u001b[22m [inlined]",
      " [3] \u001b[1mmacro expansion\u001b[22m\u001b[22m at \u001b[1m/home/megan/.julia/v0.6/PyCall/src/exception.jl:84\u001b[22m\u001b[22m [inlined]",
      " [4] \u001b[1m#_pycall#86\u001b[22m\u001b[22m\u001b[1m(\u001b[22m\u001b[22m::Array{Any,1}, ::Function, ::PyCall.PyObject, ::Tuple{Array{Float64,1},Array{Float64,1},Array{PyCall.PyObject,1}}, ::Vararg{Tuple{Array{Float64,1},Array{Float64,1},Array{PyCall.PyObject,1}},N} where N\u001b[1m)\u001b[22m\u001b[22m at \u001b[1m/home/megan/.julia/v0.6/PyCall/src/PyCall.jl:714\u001b[22m\u001b[22m",
      " [5] \u001b[1m(::PyCall.#kw##_pycall)\u001b[22m\u001b[22m\u001b[1m(\u001b[22m\u001b[22m::Array{Any,1}, ::PyCall.#_pycall, ::PyCall.PyObject, ::Tuple{Array{Float64,1},Array{Float64,1},Array{PyCall.PyObject,1}}, ::Vararg{Tuple{Array{Float64,1},Array{Float64,1},Array{PyCall.PyObject,1}},N} where N\u001b[1m)\u001b[22m\u001b[22m at \u001b[1m./<missing>:0\u001b[22m\u001b[22m",
      " [6] \u001b[1m#pycall#90\u001b[22m\u001b[22m\u001b[1m(\u001b[22m\u001b[22m::Array{Any,1}, ::Function, ::PyCall.PyObject, ::Type{PyCall.PyAny}, ::Tuple{Array{Float64,1},Array{Float64,1},Array{PyCall.PyObject,1}}, ::Vararg{Tuple{Array{Float64,1},Array{Float64,1},Array{PyCall.PyObject,1}},N} where N\u001b[1m)\u001b[22m\u001b[22m at \u001b[1m/home/megan/.julia/v0.6/PyCall/src/PyCall.jl:731\u001b[22m\u001b[22m",
      " [7] \u001b[1m(::PyCall.#kw##pycall)\u001b[22m\u001b[22m\u001b[1m(\u001b[22m\u001b[22m::Array{Any,1}, ::PyCall.#pycall, ::PyCall.PyObject, ::Type{PyCall.PyAny}, ::Tuple{Array{Float64,1},Array{Float64,1},Array{PyCall.PyObject,1}}, ::Vararg{Tuple{Array{Float64,1},Array{Float64,1},Array{PyCall.PyObject,1}},N} where N\u001b[1m)\u001b[22m\u001b[22m at \u001b[1m./<missing>:0\u001b[22m\u001b[22m",
      " [8] \u001b[1m#call#91\u001b[22m\u001b[22m\u001b[1m(\u001b[22m\u001b[22m::Array{Any,1}, ::PyCall.PyObject, ::Tuple{Array{Float64,1},Array{Float64,1},Array{PyCall.PyObject,1}}, ::Vararg{Tuple{Array{Float64,1},Array{Float64,1},Array{PyCall.PyObject,1}},N} where N\u001b[1m)\u001b[22m\u001b[22m at \u001b[1m/home/megan/.julia/v0.6/PyCall/src/PyCall.jl:734\u001b[22m\u001b[22m",
      " [9] \u001b[1m(::PyCall.#kw#PyObject)\u001b[22m\u001b[22m\u001b[1m(\u001b[22m\u001b[22m::Array{Any,1}, ::PyCall.PyObject, ::Tuple{Array{Float64,1},Array{Float64,1},Array{PyCall.PyObject,1}}, ::Vararg{Tuple{Array{Float64,1},Array{Float64,1},Array{PyCall.PyObject,1}},N} where N\u001b[1m)\u001b[22m\u001b[22m at \u001b[1m./<missing>:0\u001b[22m\u001b[22m",
      " [10] \u001b[1minclude_string\u001b[22m\u001b[22m\u001b[1m(\u001b[22m\u001b[22m::String, ::String\u001b[1m)\u001b[22m\u001b[22m at \u001b[1m./loading.jl:522\u001b[22m\u001b[22m"
     ]
    }
   ],
   "source": [
    "using PyPlot\n",
    "using Plots;\n",
    "a = rand(100)\n",
    "b = rand(50)\n",
    "# plt.hist(x,5)\n",
    "p1 = plt[:hist](a)\n",
    "p2 = plt[:hist](b)\n",
    "\n",
    "plt(p1,p2,layout=(1,2),legend=false)"
   ]
  },
  {
   "cell_type": "code",
   "execution_count": 50,
   "metadata": {},
   "outputs": [
    {
     "ename": "LoadError",
     "evalue": "\u001b[91mUndefVarError: plot not defined\u001b[39m",
     "output_type": "error",
     "traceback": [
      "\u001b[91mUndefVarError: plot not defined\u001b[39m",
      "",
      "Stacktrace:",
      " [1] \u001b[1minclude_string\u001b[22m\u001b[22m\u001b[1m(\u001b[22m\u001b[22m::String, ::String\u001b[1m)\u001b[22m\u001b[22m at \u001b[1m./loading.jl:522\u001b[22m\u001b[22m"
     ]
    }
   ],
   "source": [
    "using Plots\n",
    "pyplot() # chooses pyplot background\n",
    "x = rand(100); y = rand(100)\n",
    "plt1 = plot(x)\n",
    "display(plt1)\n",
    "plt2 = plot(y, reuse = false)\n",
    "display(plt2)"
   ]
  },
  {
   "cell_type": "code",
   "execution_count": 62,
   "metadata": {},
   "outputs": [
    {
     "ename": "LoadError",
     "evalue": "\u001b[91mUndefVarError: plot not defined\u001b[39m",
     "output_type": "error",
     "traceback": [
      "\u001b[91mUndefVarError: plot not defined\u001b[39m",
      "",
      "Stacktrace:",
      " [1] \u001b[1minclude_string\u001b[22m\u001b[22m\u001b[1m(\u001b[22m\u001b[22m::String, ::String\u001b[1m)\u001b[22m\u001b[22m at \u001b[1m./loading.jl:522\u001b[22m\u001b[22m"
     ]
    }
   ],
   "source": [
    "using Plots\n",
    "x = 1:10; y = rand(10); # These are the plotting data\n",
    "plot(x,y)"
   ]
  },
  {
   "cell_type": "code",
   "execution_count": 68,
   "metadata": {},
   "outputs": [
    {
     "ename": "LoadError",
     "evalue": "\u001b[91mUndefVarError: plot not defined\u001b[39m",
     "output_type": "error",
     "traceback": [
      "\u001b[91mUndefVarError: plot not defined\u001b[39m",
      "",
      "Stacktrace:",
      " [1] \u001b[1minclude_string\u001b[22m\u001b[22m\u001b[1m(\u001b[22m\u001b[22m::String, ::String\u001b[1m)\u001b[22m\u001b[22m at \u001b[1m./loading.jl:522\u001b[22m\u001b[22m"
     ]
    },
    {
     "name": "stderr",
     "output_type": "stream",
     "text": [
      "\u001b[1m\u001b[33mWARNING: \u001b[39m\u001b[22m\u001b[33msin(x::AbstractArray{T}) where T <: Number is deprecated, use sin.(x) instead.\u001b[39m\n",
      "Stacktrace:\n",
      " [1] \u001b[1mdepwarn\u001b[22m\u001b[22m\u001b[1m(\u001b[22m\u001b[22m::String, ::Symbol\u001b[1m)\u001b[22m\u001b[22m at \u001b[1m./deprecated.jl:70\u001b[22m\u001b[22m\n",
      " [2] \u001b[1msin\u001b[22m\u001b[22m\u001b[1m(\u001b[22m\u001b[22m::Array{Float64,1}\u001b[1m)\u001b[22m\u001b[22m at \u001b[1m./deprecated.jl:57\u001b[22m\u001b[22m\n",
      " [3] \u001b[1minclude_string\u001b[22m\u001b[22m\u001b[1m(\u001b[22m\u001b[22m::String, ::String\u001b[1m)\u001b[22m\u001b[22m at \u001b[1m./loading.jl:522\u001b[22m\u001b[22m\n",
      " [4] \u001b[1minclude_string\u001b[22m\u001b[22m\u001b[1m(\u001b[22m\u001b[22m::Module, ::String, ::String\u001b[1m)\u001b[22m\u001b[22m at \u001b[1m/home/megan/.julia/v0.6/Compat/src/Compat.jl:88\u001b[22m\u001b[22m\n",
      " [5] \u001b[1mexecute_request\u001b[22m\u001b[22m\u001b[1m(\u001b[22m\u001b[22m::ZMQ.Socket, ::IJulia.Msg\u001b[1m)\u001b[22m\u001b[22m at \u001b[1m/home/megan/.julia/v0.6/IJulia/src/execute_request.jl:180\u001b[22m\u001b[22m\n",
      " [6] \u001b[1m(::Compat.#inner#14{Array{Any,1},IJulia.#execute_request,Tuple{ZMQ.Socket,IJulia.Msg}})\u001b[22m\u001b[22m\u001b[1m(\u001b[22m\u001b[22m\u001b[1m)\u001b[22m\u001b[22m at \u001b[1m/home/megan/.julia/v0.6/Compat/src/Compat.jl:332\u001b[22m\u001b[22m\n",
      " [7] \u001b[1meventloop\u001b[22m\u001b[22m\u001b[1m(\u001b[22m\u001b[22m::ZMQ.Socket\u001b[1m)\u001b[22m\u001b[22m at \u001b[1m/home/megan/.julia/v0.6/IJulia/src/eventloop.jl:8\u001b[22m\u001b[22m\n",
      " [8] \u001b[1m(::IJulia.##15#18)\u001b[22m\u001b[22m\u001b[1m(\u001b[22m\u001b[22m\u001b[1m)\u001b[22m\u001b[22m at \u001b[1m./task.jl:335\u001b[22m\u001b[22m\n",
      "while loading In[68], in expression starting on line 3\n"
     ]
    }
   ],
   "source": [
    "using PyPlot\n",
    "x = -2pi:0.1:2pi;\n",
    "plot(x, sin(x.^2)./x);"
   ]
  },
  {
   "cell_type": "code",
   "execution_count": 71,
   "metadata": {},
   "outputs": [
    {
     "ename": "LoadError",
     "evalue": "\u001b[91mUndefVarError: plot not defined\u001b[39m",
     "output_type": "error",
     "traceback": [
      "\u001b[91mUndefVarError: plot not defined\u001b[39m",
      "",
      "Stacktrace:",
      " [1] \u001b[1minclude_string\u001b[22m\u001b[22m\u001b[1m(\u001b[22m\u001b[22m::String, ::String\u001b[1m)\u001b[22m\u001b[22m at \u001b[1m./loading.jl:522\u001b[22m\u001b[22m"
     ]
    }
   ],
   "source": [
    "using Plots;\n",
    "\n",
    "x = 1:10; y = rand(10,2) # 2 columns means two lines\n",
    "p = plot(x,y)\n",
    "z = rand(10)\n",
    "plot!(p,x,z)\n"
   ]
  },
  {
   "cell_type": "code",
   "execution_count": 1,
   "metadata": {},
   "outputs": [
    {
     "data": {
      "image/png": "[encoded data removed]"
     },
     "execution_count": 1,
     "metadata": {},
     "output_type": "execute_result"
    }
   ],
   "source": [
    "using Plots\n",
    "pyplot()\n",
    "\n",
    "n = 100\n",
    "x1, x2 = rand(n), 3rand(n)\n",
    "\n",
    "# see issue #186... this is the standard histogram call\n",
    "# our goal is to use the same edges for both series\n",
    "histogram(Any[x1, x2], line=(3,0.2,:black), fillcolor=[:red :black], fillalpha=0.2)"
   ]
  },
  {
   "cell_type": "code",
   "execution_count": 2,
   "metadata": {},
   "outputs": [],
   "source": [
    "x = [0.016683, 0.0236483, 0.00427717, 0.0117429, 0.00842575, 0.00694799, 0.00597601, 0.0267384, 0.014757, 0.023809, 0.00778355, 0.00765301, 0.0297833, 0.0114593, 0.00267757, 0.00506002, 0.00511561, 0.0199006, 0.010692, 0.00595931, 0.00967798, 0.0101837, 0.00304331, 0.0342789, 0.00560717, 0.0125486, 0.00323818, 0.00666669, 0.00859446, 3.74771e-5, 0.0134586, 0.000751033, 0.00508835, 0.0116811, 0.00927054, 0.00927922, 0.00793411, 0.0178222, 0.00147344, 0.00469086, 0.00312906, 0.000436403, 0.00110336, 0.011833, 0.0403453, 0.00934309, 0.0159763, 0.00696996, 0.00147197, 0.000381661, 0.0104863, 0.0127933, 0.0112491, 0.00230655, 0.00363851, 0.00977901, 0.0164509, 0.00329888, 0.00376132, 0.00510146, 0.000740016, 0.0158245, 0.00871036, 0.0063219, 0.0317233, 0.00388057, 0.00108036, 0.0109859, 0.0392664, 0.0050241, 0.0176542, 0.00477375, 0.000772292, 0.00209704, 0.0100725, 0.0166018, 0.0204598, 0.0226256, 0.0131681, 0.00651531, 0.0107082, 0.00462539, 0.00481742, 0.0138031, 0.000702523, 0.000511281, 0.0214322, 0.00524537, 0.00995884, 0.00128957, 0.0119794, 0.0047954, 0.00196463, 0.0039421, 0.0109143, 0.00812962, 0.0104938, 0.0146632, 0.00249789, 0.0224706];"
   ]
  },
  {
   "cell_type": "code",
   "execution_count": null,
   "metadata": {},
   "outputs": [],
   "source": []
  },
  {
   "cell_type": "code",
   "execution_count": 3,
   "metadata": {},
   "outputs": [
    {
     "ename": "LoadError",
     "evalue": "\u001b[91mNo current plot/subplot\u001b[39m",
     "output_type": "error",
     "traceback": [
      "\u001b[91mNo current plot/subplot\u001b[39m",
      "",
      "Stacktrace:",
      " [1] \u001b[1mcurrent\u001b[22m\u001b[22m\u001b[1m(\u001b[22m\u001b[22m\u001b[1m)\u001b[22m\u001b[22m at \u001b[1m/home/megan/.julia/v0.6/Plots/src/plot.jl:15\u001b[22m\u001b[22m",
      " [2] \u001b[1mgui\u001b[22m\u001b[22m\u001b[1m(\u001b[22m\u001b[22m\u001b[1m)\u001b[22m\u001b[22m at \u001b[1m/home/megan/.julia/v0.6/Plots/src/output.jl:134\u001b[22m\u001b[22m"
     ]
    }
   ],
   "source": [
    "using Plots\n",
    "pyplot()\n",
    "\n",
    "x = rand(100)\n",
    "\n",
    "plot1 = PyPlot.plt[:hist](x; bins=50, alpha=0.5)\n",
    "PyPlot.xlabel(\"Mean Step Length\")\n",
    "PyPlot.ylabel(\"Density\")\n",
    "PyPlot.title(\"Test Plot\")\n",
    "gui()"
   ]
  },
  {
   "cell_type": "code",
   "execution_count": 7,
   "metadata": {},
   "outputs": [
    {
     "data": {
      "image/png": "[encoded data removed]",
      "text/plain": [
       "PyPlot.Figure(PyObject <matplotlib.figure.Figure object at 0x7f579f61d7f0>)"
      ]
     },
     "metadata": {},
     "output_type": "display_data"
    },
    {
     "data": {
      "text/plain": [
       "PyObject <matplotlib.collections.PathCollection object at 0x7f579f4c3198>"
      ]
     },
     "execution_count": 7,
     "metadata": {},
     "output_type": "execute_result"
    }
   ],
   "source": [
    "x = rand(50)\n",
    "y = rand(50)\n",
    "\n",
    "scatter(x,y)\n"
   ]
  },
  {
   "cell_type": "code",
   "execution_count": null,
   "metadata": {},
   "outputs": [],
   "source": []
  }
 ],
 "metadata": {
  "kernelspec": {
   "display_name": "Julia 0.6.2",
   "language": "julia",
   "name": "julia-0.6"
  },
  "language_info": {
   "file_extension": ".jl",
   "mimetype": "application/julia",
   "name": "julia",
   "version": "0.6.2"
  }
 },
 "nbformat": 4,
 "nbformat_minor": 2
}
