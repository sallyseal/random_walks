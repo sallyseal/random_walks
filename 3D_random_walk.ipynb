{
 "cells": [
  {
   "cell_type": "code",
   "execution_count": 20,
   "metadata": {},
   "outputs": [],
   "source": [
    "import pandas as pd\n",
    "import numpy as np\n",
    "import random\n",
    "import math"
   ]
  },
  {
   "cell_type": "code",
   "execution_count": 4,
   "metadata": {},
   "outputs": [
    {
     "ename": "TypeError",
     "evalue": "'int' object is not iterable",
     "output_type": "error",
     "traceback": [
      "\u001b[0;31m---------------------------------------------------------------------------\u001b[0m",
      "\u001b[0;31mTypeError\u001b[0m                                 Traceback (most recent call last)",
      "\u001b[0;32m<ipython-input-4-132fdd850735>\u001b[0m in \u001b[0;36m<module>\u001b[0;34m()\u001b[0m\n\u001b[1;32m     12\u001b[0m \u001b[0;31m# y[0] = 0\u001b[0m\u001b[0;34m\u001b[0m\u001b[0;34m\u001b[0m\u001b[0m\n\u001b[1;32m     13\u001b[0m \u001b[0;34m\u001b[0m\u001b[0m\n\u001b[0;32m---> 14\u001b[0;31m \u001b[0;32mfor\u001b[0m \u001b[0mi\u001b[0m \u001b[0;32min\u001b[0m \u001b[0mnsteps\u001b[0m\u001b[0;34m:\u001b[0m\u001b[0;34m\u001b[0m\u001b[0m\n\u001b[0m\u001b[1;32m     15\u001b[0m \u001b[0;34m\u001b[0m\u001b[0m\n\u001b[1;32m     16\u001b[0m     \u001b[0mr\u001b[0m \u001b[0;34m=\u001b[0m \u001b[0mnp\u001b[0m\u001b[0;34m.\u001b[0m\u001b[0mrandom\u001b[0m\u001b[0;34m.\u001b[0m\u001b[0mnormal\u001b[0m\u001b[0;34m(\u001b[0m\u001b[0;34m)\u001b[0m\u001b[0;34m\u001b[0m\u001b[0m\n",
      "\u001b[0;31mTypeError\u001b[0m: 'int' object is not iterable"
     ]
    }
   ],
   "source": [
    "# Random walk in 2D\n",
    "\n",
    "# Initialize the arrays to store x and y values for plotting - set to same size as nsteps\n",
    "x = []\n",
    "y = []\n",
    "\n",
    "# Need number of steps to take for the random walk/ number of iterations to perform\n",
    "nsteps = 10\n",
    "\n",
    "# Need starting condition for x and y as it's 2D\n",
    "# x[0] = 0\n",
    "# y[0] = 0\n",
    "\n",
    "for i in nsteps:\n",
    "           \n",
    "    r = np.random.normal()\n",
    "    theta = 2*math.pi*np.random.randn()\n",
    "    \n",
    "    # step size ito x and y is:\n",
    "    dx = r*math.cos(theta)\n",
    "    dy = r*math.sin(theta)\n",
    "    \n",
    "    # need to find the new position at the end of this step just taken\n",
    "    new_x = x[i] + dx\n",
    "    new_y = y[i] + dy\n",
    "       \n",
    "    # push new x and y position to a growing array for plotting\n",
    "    x.append(new_x)\n",
    "    y.append(new_y)\n",
    "end\n",
    "    \n",
    "print(x)\n",
    "print(y)"
   ]
  },
  {
   "cell_type": "code",
   "execution_count": 29,
   "metadata": {},
   "outputs": [
    {
     "ename": "IndexError",
     "evalue": "list index out of range",
     "output_type": "error",
     "traceback": [
      "\u001b[0;31m---------------------------------------------------------------------------\u001b[0m",
      "\u001b[0;31mIndexError\u001b[0m                                Traceback (most recent call last)",
      "\u001b[0;32m<ipython-input-29-c8b55145c7e6>\u001b[0m in \u001b[0;36m<module>\u001b[0;34m()\u001b[0m\n\u001b[1;32m     25\u001b[0m \u001b[0;34m\u001b[0m\u001b[0m\n\u001b[1;32m     26\u001b[0m     \u001b[0;31m# update x and y values to append to plotting arrays\u001b[0m\u001b[0;34m\u001b[0m\u001b[0;34m\u001b[0m\u001b[0m\n\u001b[0;32m---> 27\u001b[0;31m     \u001b[0mnew_x\u001b[0m \u001b[0;34m=\u001b[0m \u001b[0mx\u001b[0m\u001b[0;34m[\u001b[0m\u001b[0mi\u001b[0m\u001b[0;34m]\u001b[0m \u001b[0;34m+\u001b[0m \u001b[0mdx\u001b[0m\u001b[0;34m\u001b[0m\u001b[0m\n\u001b[0m\u001b[1;32m     28\u001b[0m     \u001b[0mnew_y\u001b[0m \u001b[0;34m=\u001b[0m \u001b[0my\u001b[0m\u001b[0;34m[\u001b[0m\u001b[0mi\u001b[0m\u001b[0;34m]\u001b[0m \u001b[0;34m+\u001b[0m \u001b[0mdy\u001b[0m\u001b[0;34m\u001b[0m\u001b[0m\n\u001b[1;32m     29\u001b[0m \u001b[0;34m\u001b[0m\u001b[0m\n",
      "\u001b[0;31mIndexError\u001b[0m: list index out of range"
     ]
    }
   ],
   "source": [
    "# Python code for 2D random walk\n",
    "\n",
    "# create empty array to append updated x, y values to for plotting\n",
    "x = []\n",
    "y = []\n",
    "\n",
    "# number of steps to take in random walk\n",
    "nsteps = [0] * 10\n",
    "\n",
    "# starting position of random walker\n",
    "# x[0] = 0\n",
    "# y[0] = 0\n",
    "\n",
    "# iterate over lenght of steps and calculate new x and y values and append them for plotting\n",
    "for i in range(len(nsteps)):\n",
    "    \n",
    "    # parameters needed to calculate a point in 2D\n",
    "    # sample the radius randomly from a normal distribution\n",
    "    r = np.random.normal()\n",
    "    theta = 2*math.pi*np.random.randn()\n",
    "       \n",
    "    # change in x and y for each iteration\n",
    "    dx = r*math.cos(theta)\n",
    "    dy = r*math.sin(theta)\n",
    "    \n",
    "    # update x and y values to append to plotting arrays\n",
    "    new_x = x[i] + dx\n",
    "    new_y = y[i] + dy\n",
    "       \n",
    "    plot_x = x.append(new_x)\n",
    "    plot_y = y.append(new_y)\n",
    "\n",
    "print(plot_x)\n",
    "print(plot_y)"
   ]
  },
  {
   "cell_type": "code",
   "execution_count": 14,
   "metadata": {},
   "outputs": [
    {
     "ename": "IndexError",
     "evalue": "list assignment index out of range",
     "output_type": "error",
     "traceback": [
      "\u001b[0;31m---------------------------------------------------------------------------\u001b[0m",
      "\u001b[0;31mIndexError\u001b[0m                                Traceback (most recent call last)",
      "\u001b[0;32m<ipython-input-14-c596523209fa>\u001b[0m in \u001b[0;36m<module>\u001b[0;34m()\u001b[0m\n\u001b[1;32m      4\u001b[0m \u001b[0mnsteps\u001b[0m \u001b[0;34m=\u001b[0m \u001b[0;36m10\u001b[0m\u001b[0;34m\u001b[0m\u001b[0m\n\u001b[1;32m      5\u001b[0m \u001b[0;34m\u001b[0m\u001b[0m\n\u001b[0;32m----> 6\u001b[0;31m \u001b[0mx\u001b[0m\u001b[0;34m[\u001b[0m\u001b[0;36m0\u001b[0m\u001b[0;34m]\u001b[0m \u001b[0;34m=\u001b[0m \u001b[0;36m0\u001b[0m\u001b[0;34m\u001b[0m\u001b[0m\n\u001b[0m\u001b[1;32m      7\u001b[0m \u001b[0my\u001b[0m\u001b[0;34m[\u001b[0m\u001b[0;36m0\u001b[0m\u001b[0;34m]\u001b[0m \u001b[0;34m=\u001b[0m \u001b[0;36m0\u001b[0m\u001b[0;34m\u001b[0m\u001b[0m\n\u001b[1;32m      8\u001b[0m \u001b[0mz\u001b[0m\u001b[0;34m[\u001b[0m\u001b[0;36m0\u001b[0m\u001b[0;34m]\u001b[0m \u001b[0;34m=\u001b[0m \u001b[0;36m0\u001b[0m\u001b[0;34m\u001b[0m\u001b[0m\n",
      "\u001b[0;31mIndexError\u001b[0m: list assignment index out of range"
     ]
    }
   ],
   "source": [
    "# create empty array to append updated x, y, z values to\n",
    "x = []\n",
    "y = []\n",
    "z = []\n",
    "\n",
    "# number of steps to take in random walk\n",
    "nsteps = 10\n",
    "\n",
    "# starting position\n",
    "x[0] = 0\n",
    "y[0] = 0\n",
    "z[0] = 0\n",
    "\n",
    "for i in range(len(nsteps)):\n",
    "    # parameters needed to calculate 3D point\n",
    "    r=np.random.normal()\n",
    "    theta = pi*np.random()\n",
    "    phi = 2*pi*np.random()\n",
    "    \n",
    "    # change in x, y and z \n",
    "    dx = r*sin(theta)*cos(phi)\n",
    "    dy = r*sin(theta)*sin(phi)\n",
    "    dz = r*cos(theta)\n",
    "    \n",
    "    x[i+1] = x[i] + dx\n",
    "    y[i+1] = y[i] + dy\n",
    "    z[i+1] = z[i] + dz"
   ]
  },
  {
   "cell_type": "code",
   "execution_count": 13,
   "metadata": {},
   "outputs": [
    {
     "ename": "TypeError",
     "evalue": "object of type 'int' has no len()",
     "output_type": "error",
     "traceback": [
      "\u001b[0;31m---------------------------------------------------------------------------\u001b[0m",
      "\u001b[0;31mTypeError\u001b[0m                                 Traceback (most recent call last)",
      "\u001b[0;32m<ipython-input-13-561dabb9227f>\u001b[0m in \u001b[0;36m<module>\u001b[0;34m()\u001b[0m\n\u001b[1;32m     18\u001b[0m \u001b[0mz\u001b[0m\u001b[0;34m[\u001b[0m\u001b[0;36m0\u001b[0m\u001b[0;34m]\u001b[0m \u001b[0;34m=\u001b[0m \u001b[0;36m0.0\u001b[0m\u001b[0;34m;\u001b[0m\u001b[0;34m\u001b[0m\u001b[0m\n\u001b[1;32m     19\u001b[0m \u001b[0;34m\u001b[0m\u001b[0m\n\u001b[0;32m---> 20\u001b[0;31m \u001b[0;32mfor\u001b[0m \u001b[0mi\u001b[0m \u001b[0;32min\u001b[0m \u001b[0mrange\u001b[0m \u001b[0;34m(\u001b[0m\u001b[0mlen\u001b[0m\u001b[0;34m(\u001b[0m\u001b[0mnsteps\u001b[0m\u001b[0;34m)\u001b[0m\u001b[0;34m)\u001b[0m\u001b[0;34m:\u001b[0m\u001b[0;34m\u001b[0m\u001b[0m\n\u001b[0m\u001b[1;32m     21\u001b[0m \u001b[0;34m\u001b[0m\u001b[0m\n\u001b[1;32m     22\u001b[0m     \u001b[0;31m# need to have a step size so we know how far to travel in the random direction\u001b[0m\u001b[0;34m\u001b[0m\u001b[0;34m\u001b[0m\u001b[0m\n",
      "\u001b[0;31mTypeError\u001b[0m: object of type 'int' has no len()"
     ]
    }
   ],
   "source": [
    "# Random walk in 3D\n",
    "# Using the spherical coordinate system - physics system\n",
    "# In addition to r and theta we need phi to give us the new point in 3D\n",
    "# How do we now encorporate bias and persistence into this using the parameters p, b, w?\n",
    "# Is this even in continuous time or discrete time and how do we change this? Gillespie?\n",
    "\n",
    "# Initialize these as empty or zeros - same number as nsteps\n",
    "x = [0] * 10\n",
    "y = [0] * 10\n",
    "z = [0] * 10\n",
    "\n",
    "# Need number of steps\n",
    "nsteps = 10\n",
    "\n",
    "# Need starting condition for x, y, z as it's 3D\n",
    "x[0] = 0.0;\n",
    "y[0] = 0.0;\n",
    "z[0] = 0.0;\n",
    "\n",
    "for i in range (len(nsteps)):\n",
    "    \n",
    "    # need to have a step size so we know how far to travel in the random direction\n",
    "    # can set a step size or we can randomly sample from some distribution. Sample from normal distribution\n",
    "    r = np.random.normal()\n",
    "    # theta is equivalent to latitude and is a value somewhere between -pi and +pi\n",
    "    # theta = pi*rand() results in clustering of points at poles so we must correct this. It's biased\n",
    "    # we can't sample uniformally accross theta from 0 - pi we can maybe use inverse cumulitive distribution function\n",
    "    # this is the challenge to get unbiased sampling here\n",
    "    theta = pi*rand()\n",
    "    # phi is the azimuthal angle in longitude\n",
    "    phi = 2*pi*rand()\n",
    "    \n",
    "    # step size ito x, y, z is\n",
    "    dx = r*sin(theta)*cos(phi);\n",
    "    dy = r*sin(theta)*sin(phi);\n",
    "    dz = r*cos(theta);\n",
    "    \n",
    "    # need to find the new position at the end of this step just taken\n",
    "    x[i+1] = x[i] + dx\n",
    "    y[i+1] = y[i] + dy\n",
    "    z[i+1] = z[i] + dz\n",
    "\n",
    "# Want to plot these values and join them in 3D\n",
    "Axes3D.plot(xs, ys, zs)"
   ]
  },
  {
   "cell_type": "code",
   "execution_count": null,
   "metadata": {},
   "outputs": [],
   "source": []
  }
 ],
 "metadata": {
  "kernelspec": {
   "display_name": "Python 3",
   "language": "python",
   "name": "python3"
  },
  "language_info": {
   "codemirror_mode": {
    "name": "ipython",
    "version": 3
   },
   "file_extension": ".py",
   "mimetype": "text/x-python",
   "name": "python",
   "nbconvert_exporter": "python",
   "pygments_lexer": "ipython3",
   "version": "3.6.4"
  }
 },
 "nbformat": 4,
 "nbformat_minor": 2
}
