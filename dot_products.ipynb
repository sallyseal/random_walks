{
 "cells": [
  {
   "cell_type": "code",
   "execution_count": 1,
   "metadata": {},
   "outputs": [
    {
     "ename": "LoadError",
     "evalue": "\u001b[91mMethodError: no method matching *(::Tuple{Int64,Int64,Int64}, ::Tuple{Int64,Int64,Int64})\u001b[0m\nClosest candidates are:\n  *(::Any, ::Any, \u001b[91m::Any\u001b[39m, \u001b[91m::Any...\u001b[39m) at operators.jl:424\u001b[39m",
     "output_type": "error",
     "traceback": [
      "\u001b[91mMethodError: no method matching *(::Tuple{Int64,Int64,Int64}, ::Tuple{Int64,Int64,Int64})\u001b[0m\nClosest candidates are:\n  *(::Any, ::Any, \u001b[91m::Any\u001b[39m, \u001b[91m::Any...\u001b[39m) at operators.jl:424\u001b[39m",
      ""
     ]
    }
   ],
   "source": []
  },
  {
   "cell_type": "code",
   "execution_count": 7,
   "metadata": {},
   "outputs": [
    {
     "data": {
      "text/plain": [
       "(-3, 4, 3)"
      ]
     },
     "execution_count": 7,
     "metadata": {},
     "output_type": "execute_result"
    }
   ],
   "source": [
    "x = (-3,4,3)"
   ]
  },
  {
   "cell_type": "code",
   "execution_count": 8,
   "metadata": {},
   "outputs": [
    {
     "data": {
      "text/plain": [
       "(-1, 5, -3)"
      ]
     },
     "execution_count": 8,
     "metadata": {},
     "output_type": "execute_result"
    }
   ],
   "source": [
    "y = (-1,5,-3)"
   ]
  },
  {
   "cell_type": "code",
   "execution_count": 11,
   "metadata": {},
   "outputs": [
    {
     "ename": "LoadError",
     "evalue": "\u001b[91mMethodError: no method matching size(::Tuple{Int64,Int64,Int64})\u001b[0m\nClosest candidates are:\n  size(::Tuple, \u001b[91m::Any\u001b[39m) at tuple.jl:20\n  size(::Any, \u001b[91m::Integer\u001b[39m, \u001b[91m::Integer\u001b[39m, \u001b[91m::Integer...\u001b[39m) where N at abstractarray.jl:30\n  size(\u001b[91m::Char\u001b[39m) at char.jl:13\n  ...\u001b[39m",
     "output_type": "error",
     "traceback": [
      "\u001b[91mMethodError: no method matching size(::Tuple{Int64,Int64,Int64})\u001b[0m\nClosest candidates are:\n  size(::Tuple, \u001b[91m::Any\u001b[39m) at tuple.jl:20\n  size(::Any, \u001b[91m::Integer\u001b[39m, \u001b[91m::Integer\u001b[39m, \u001b[91m::Integer...\u001b[39m) where N at abstractarray.jl:30\n  size(\u001b[91m::Char\u001b[39m) at char.jl:13\n  ...\u001b[39m",
      ""
     ]
    }
   ],
   "source": [
    "size(x)"
   ]
  },
  {
   "cell_type": "code",
   "execution_count": 19,
   "metadata": {},
   "outputs": [
    {
     "data": {
      "text/plain": [
       "1.1528988910950526"
      ]
     },
     "execution_count": 19,
     "metadata": {},
     "output_type": "execute_result"
    }
   ],
   "source": [
    "turn_angle = acos(vecdot(x,y)/sqrt(sum(x.*x)*sum(y.*y)))"
   ]
  },
  {
   "cell_type": "code",
   "execution_count": 16,
   "metadata": {},
   "outputs": [
    {
     "data": {
      "text/plain": [
       "35"
      ]
     },
     "execution_count": 16,
     "metadata": {},
     "output_type": "execute_result"
    }
   ],
   "source": [
    "sum(y.*y)"
   ]
  },
  {
   "cell_type": "code",
   "execution_count": 8,
   "metadata": {},
   "outputs": [
    {
     "name": "stdout",
     "output_type": "stream",
     "text": [
      "radians: 1.1528988910950526\n",
      "degrees: 66.05624066505925\n"
     ]
    }
   ],
   "source": [
    "# Function that calculates the angle between two vectors in 3Dim space\n",
    "# Input is 2 points in 3D space eg (1,2,3) and (4,5,6)\n",
    "# Output is in radians and degrees\n",
    "\n",
    "# Can use vecdot to get the numerator\n",
    "# Write custom code for denominator \n",
    "x = (-3,4,3)\n",
    "y = (-1,5,-3)\n",
    "a = vecdot(x,y)\n",
    "\n",
    "numerator = a\n",
    "denom = sqrt(x[1]^2 + x[2]^2 + x[3]^2) * sqrt(y[1]^2 + y[2]^2 + y[3]^2)\n",
    "theta_rad = acos(numerator/denom)\n",
    "theta_deg = theta_rad * 180 / pi\n",
    "\n",
    "println(\"radians: \", theta_rad)\n",
    "println(\"degrees: \", theta_deg)"
   ]
  },
  {
   "cell_type": "code",
   "execution_count": 23,
   "metadata": {},
   "outputs": [
    {
     "data": {
      "text/plain": [
       "1.1528988910950526"
      ]
     },
     "execution_count": 23,
     "metadata": {},
     "output_type": "execute_result"
    }
   ],
   "source": [
    "c_0 = -1,5,-3\n",
    "c_1 = -3,4,3\n",
    "turn_angle = acos(vecdot(c_0,c_1)/sqrt(sum(c_0.*c_0)*sum(c_1.*c_1)))"
   ]
  },
  {
   "cell_type": "code",
   "execution_count": null,
   "metadata": {},
   "outputs": [],
   "source": []
  },
  {
   "cell_type": "code",
   "execution_count": 17,
   "metadata": {},
   "outputs": [
    {
     "data": {
      "text/plain": [
       "1.37713802635057"
      ]
     },
     "execution_count": 17,
     "metadata": {},
     "output_type": "execute_result"
    }
   ],
   "source": [
    "x = 2,1,-2\n",
    "y = 1,1,1\n",
    "turn_angle = acos(vecdot(x,y)/sqrt(sum(x.*x)*sum(y.*y)))"
   ]
  },
  {
   "cell_type": "code",
   "execution_count": 24,
   "metadata": {},
   "outputs": [
    {
     "data": {
      "text/plain": [
       "1.37713802635057"
      ]
     },
     "execution_count": 24,
     "metadata": {},
     "output_type": "execute_result"
    }
   ],
   "source": [
    "x = 2,1,-2\n",
    "y = 5,5,5\n",
    "turn_angle = acos(vecdot(x,y)/sqrt(sum(x.*x)*sum(y.*y)))"
   ]
  },
  {
   "cell_type": "code",
   "execution_count": 7,
   "metadata": {},
   "outputs": [
    {
     "data": {
      "text/plain": [
       "0.3145245132053039"
      ]
     },
     "execution_count": 7,
     "metadata": {},
     "output_type": "execute_result"
    }
   ],
   "source": [
    "a = rand(100)\n",
    "std(a)"
   ]
  },
  {
   "cell_type": "code",
   "execution_count": 13,
   "metadata": {},
   "outputs": [
    {
     "data": {
      "text/plain": [
       "NaN"
      ]
     },
     "execution_count": 13,
     "metadata": {},
     "output_type": "execute_result"
    }
   ],
   "source": [
    "a = [1,2,3,4,5,6,7,8,9,NaN]\n",
    "std(a)"
   ]
  },
  {
   "cell_type": "code",
   "execution_count": 14,
   "metadata": {},
   "outputs": [
    {
     "data": {
      "text/plain": [
       "NaN"
      ]
     },
     "execution_count": 14,
     "metadata": {},
     "output_type": "execute_result"
    }
   ],
   "source": [
    "NaN/4"
   ]
  },
  {
   "cell_type": "code",
   "execution_count": 38,
   "metadata": {},
   "outputs": [
    {
     "name": "stdout",
     "output_type": "stream",
     "text": [
      "0.8198158615538786\n"
     ]
    },
    {
     "data": {
      "text/plain": [
       "0.6097069498312873"
      ]
     },
     "execution_count": 38,
     "metadata": {},
     "output_type": "execute_result"
    }
   ],
   "source": [
    "x = 14,1,100\n",
    "y = -5,-4,12\n",
    "a = (vecdot(x,y)/sqrt(sum(x.*x)*sum(y.*y)))\n",
    "println(a)\n",
    "turn_angle = acos(a)"
   ]
  },
  {
   "cell_type": "code",
   "execution_count": 27,
   "metadata": {},
   "outputs": [
    {
     "data": {
      "text/plain": [
       "2.7386127875258306"
      ]
     },
     "execution_count": 27,
     "metadata": {},
     "output_type": "execute_result"
    }
   ],
   "source": [
    "x = [1,2,3,4,5,6,7,8,9, NaN]\n",
    "std(filter(!isnan, x))"
   ]
  },
  {
   "cell_type": "code",
   "execution_count": 32,
   "metadata": {},
   "outputs": [
    {
     "ename": "LoadError",
     "evalue": "DomainError:",
     "output_type": "error",
     "traceback": [
      "DomainError:",
      "",
      "Stacktrace:",
      " [1] \u001b[1mnan_dom_err\u001b[22m\u001b[22m at \u001b[1m./math.jl:300\u001b[22m\u001b[22m [inlined]",
      " [2] \u001b[1macos\u001b[22m\u001b[22m at \u001b[1m./math.jl:419\u001b[22m\u001b[22m [inlined]",
      " [3] \u001b[1macos\u001b[22m\u001b[22m\u001b[1m(\u001b[22m\u001b[22m::Int64\u001b[1m)\u001b[22m\u001b[22m at \u001b[1m./math.jl:421\u001b[22m\u001b[22m"
     ]
    }
   ],
   "source": [
    "acos(10)"
   ]
  },
  {
   "cell_type": "code",
   "execution_count": 39,
   "metadata": {},
   "outputs": [
    {
     "name": "stdout",
     "output_type": "stream",
     "text": [
      "0.8198158615538786\n"
     ]
    },
    {
     "data": {
      "text/plain": [
       "0.6097069498312873"
      ]
     },
     "execution_count": 39,
     "metadata": {},
     "output_type": "execute_result"
    }
   ],
   "source": [
    "x = 14,1,100\n",
    "y = -5,-4,12\n",
    "a = (vecdot(x,y)/sqrt(sum(x.*x)*sum(y.*y)))\n",
    "println(a)\n",
    "turn_angle = acos(a)"
   ]
  },
  {
   "cell_type": "code",
   "execution_count": 59,
   "metadata": {},
   "outputs": [
    {
     "name": "stdout",
     "output_type": "stream",
     "text": [
      "5.0\n",
      "-3.2\n"
     ]
    }
   ],
   "source": [
    "list = [1, -1, 0.2, 5, -3.2]\n",
    "for i in list\n",
    "    if i >1 \n",
    "        println(i)\n",
    "    elseif i <-1\n",
    "        println(i)\n",
    "    end\n",
    "end"
   ]
  },
  {
   "cell_type": "code",
   "execution_count": 60,
   "metadata": {},
   "outputs": [
    {
     "data": {
      "text/plain": [
       "NaN"
      ]
     },
     "execution_count": 60,
     "metadata": {},
     "output_type": "execute_result"
    }
   ],
   "source": [
    "list = [1, -1, 0.2, 5, -3.2]\n",
    "for i in list\n",
    "    if i <= 1 && i >= -1\n",
    "        turn_angle = acos(i)\n",
    "    else return NaN\n",
    "    end\n",
    "end\n",
    "\n",
    "        "
   ]
  },
  {
   "cell_type": "code",
   "execution_count": null,
   "metadata": {},
   "outputs": [],
   "source": []
  }
 ],
 "metadata": {
  "kernelspec": {
   "display_name": "Julia 0.6.2",
   "language": "julia",
   "name": "julia-0.6"
  },
  "language_info": {
   "file_extension": ".jl",
   "mimetype": "application/julia",
   "name": "julia",
   "version": "0.6.2"
  }
 },
 "nbformat": 4,
 "nbformat_minor": 2
}
