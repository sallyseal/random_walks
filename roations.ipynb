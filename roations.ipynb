{
 "cells": [
  {
   "cell_type": "code",
   "execution_count": 2,
   "metadata": {},
   "outputs": [
    {
     "name": "stderr",
     "output_type": "stream",
     "text": [
      "\u001b[1m\u001b[36mINFO: \u001b[39m\u001b[22m\u001b[36mPrecompiling module Rotations.\n",
      "\u001b[39m"
     ]
    },
    {
     "data": {
      "text/plain": [
       "3×3 RotMatrix{3,Float64,9}:\n",
       " 1.0  0.0  0.0\n",
       " 0.0  1.0  0.0\n",
       " 0.0  0.0  1.0"
      ]
     },
     "execution_count": 2,
     "metadata": {},
     "output_type": "execute_result"
    }
   ],
   "source": [
    "using Rotations, StaticArrays\n",
    "\n",
    "# create the null rotation (identity matrix)\n",
    "id = one(RotMatrix{3, Float64})"
   ]
  },
  {
   "cell_type": "code",
   "execution_count": 3,
   "metadata": {},
   "outputs": [
    {
     "data": {
      "text/plain": [
       "3×3 RotMatrix{3,Float64,9}:\n",
       " -0.0647241   0.238687  -0.968937\n",
       " -0.415979   -0.889043  -0.191219\n",
       " -0.907068    0.390681   0.156831"
      ]
     },
     "execution_count": 3,
     "metadata": {},
     "output_type": "execute_result"
    }
   ],
   "source": [
    "# create a random rotation matrix (uniformly distributed over all 3D rotations)\n",
    "r = rand(RotMatrix{3}) # uses Float64 by default"
   ]
  },
  {
   "cell_type": "code",
   "execution_count": 4,
   "metadata": {},
   "outputs": [
    {
     "data": {
      "text/plain": [
       "3-element StaticArrays.SArray{Tuple{3},Float64,1,3}:\n",
       " 1.0\n",
       " 2.0\n",
       " 3.0"
      ]
     },
     "execution_count": 4,
     "metadata": {},
     "output_type": "execute_result"
    }
   ],
   "source": [
    "# create a point\n",
    "p = SVector(1.0, 2.0, 3.0) # from StaticArrays.jl, but could use any AbstractVector..."
   ]
  },
  {
   "cell_type": "code",
   "execution_count": 6,
   "metadata": {},
   "outputs": [
    {
     "name": "stdout",
     "output_type": "stream",
     "text": [
      "Quat(0.225313, 0.645656, -0.068648, -0.726395)\n"
     ]
    },
    {
     "data": {
      "text/plain": [
       "3-element StaticArrays.SArray{Tuple{3},Float64,1,3}:\n",
       " -2.49416 \n",
       " -2.76772 \n",
       "  0.344787"
      ]
     },
     "execution_count": 6,
     "metadata": {},
     "output_type": "execute_result"
    }
   ],
   "source": [
    "# convert to a quaternion (Quat) and rotate the point\n",
    "q = Quat(r)\n",
    "println(q)\n",
    "p_rotated = q * p"
   ]
  },
  {
   "cell_type": "code",
   "execution_count": 7,
   "metadata": {},
   "outputs": [
    {
     "data": {
      "text/plain": [
       "3×3 Quat{Float64}(0.109666, 0.205354, -0.945921, -0.225914):\n",
       " -0.891606  -0.338947  -0.300255\n",
       " -0.438047   0.813585   0.382353\n",
       "  0.114686   0.472434  -0.873873"
      ]
     },
     "execution_count": 7,
     "metadata": {},
     "output_type": "execute_result"
    }
   ],
   "source": [
    "# Compose rotations\n",
    "q2 = rand(Quat)\n",
    "q3 = q * q2"
   ]
  },
  {
   "cell_type": "code",
   "execution_count": 8,
   "metadata": {},
   "outputs": [
    {
     "data": {
      "text/plain": [
       "3×3 Quat{Float64}(0.225313, 0.628907, 0.617868, -0.414667):\n",
       " -0.107419   0.964023  -0.243147\n",
       "  0.590303  -0.134946  -0.795821\n",
       " -0.800002  -0.229017  -0.55457 "
      ]
     },
     "execution_count": 8,
     "metadata": {},
     "output_type": "execute_result"
    }
   ],
   "source": [
    "# Take the inverse (equivalent to transpose)\n",
    "q_inv = transpose(q)\n",
    "q_inv == inv(q)\n",
    "p ≈ q_inv * (q * p)\n",
    "q4 = q3 / q2  # q4 = q3 * inv(q2)\n",
    "q5 = q3 \\ q2  # q5 = inv(q3) * q2"
   ]
  },
  {
   "cell_type": "code",
   "execution_count": null,
   "metadata": {},
   "outputs": [],
   "source": []
  }
 ],
 "metadata": {
  "kernelspec": {
   "display_name": "Julia 0.6.2",
   "language": "julia",
   "name": "julia-0.6"
  },
  "language_info": {
   "file_extension": ".jl",
   "mimetype": "application/julia",
   "name": "julia",
   "version": "0.6.2"
  }
 },
 "nbformat": 4,
 "nbformat_minor": 2
}
