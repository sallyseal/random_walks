{
 "cells": [
  {
   "cell_type": "code",
   "execution_count": 67,
   "metadata": {},
   "outputs": [],
   "source": [
    "using Distributions;\n",
    "using Gadfly;\n",
    "using PyPlot;"
   ]
  },
  {
   "cell_type": "code",
   "execution_count": 4,
   "metadata": {},
   "outputs": [
    {
     "data": {
      "text/plain": [
       "3-element Array{Float64,1}:\n",
       "  0.303825\n",
       "  0.947333\n",
       " -0.101244"
      ]
     },
     "execution_count": 4,
     "metadata": {},
     "output_type": "execute_result"
    }
   ],
   "source": [
    "rand(VonMisesFisher([1,0,1]))"
   ]
  },
  {
   "cell_type": "code",
   "execution_count": 10,
   "metadata": {},
   "outputs": [
    {
     "data": {
      "text/plain": [
       "Distributions.VonMisesFisher{Float64}(μ=[0.707107, 0.707107, 0.0], κ=1.4142135623730951)"
      ]
     },
     "execution_count": 10,
     "metadata": {},
     "output_type": "execute_result"
    }
   ],
   "source": [
    "VonMisesFisher([1,1,0])"
   ]
  },
  {
   "cell_type": "code",
   "execution_count": 8,
   "metadata": {},
   "outputs": [
    {
     "data": {
      "text/plain": [
       "Distributions.VonMisesFisher{Float64}(μ=[1.0, 0.0], κ=1.0)"
      ]
     },
     "execution_count": 8,
     "metadata": {},
     "output_type": "execute_result"
    }
   ],
   "source": [
    "VonMisesFisher([1,0])"
   ]
  },
  {
   "cell_type": "code",
   "execution_count": 16,
   "metadata": {},
   "outputs": [
    {
     "name": "stdout",
     "output_type": "stream",
     "text": [
      "Any[Distributions.VonMisesFisher{Float64}(μ=[0.707107, 0.707107, 0.0], κ=1.41421), Distributions.VonMisesFisher{Float64}(μ=[0.707107, 0.707107, 0.0], κ=1.41421), Distributions.VonMisesFisher{Float64}(μ=[0.707107, 0.707107, 0.0], κ=1.41421), Distributions.VonMisesFisher{Float64}(μ=[0.707107, 0.707107, 0.0], κ=1.41421), Distributions.VonMisesFisher{Float64}(μ=[0.707107, 0.707107, 0.0], κ=1.41421), Distributions.VonMisesFisher{Float64}(μ=[0.707107, 0.707107, 0.0], κ=1.41421), Distributions.VonMisesFisher{Float64}(μ=[0.707107, 0.707107, 0.0], κ=1.41421), Distributions.VonMisesFisher{Float64}(μ=[0.707107, 0.707107, 0.0], κ=1.41421), Distributions.VonMisesFisher{Float64}(μ=[0.707107, 0.707107, 0.0], κ=1.41421), Distributions.VonMisesFisher{Float64}(μ=[0.707107, 0.707107, 0.0], κ=1.41421), Distributions.VonMisesFisher{Float64}(μ=[0.707107, 0.707107, 0.0], κ=1.41421), Distributions.VonMisesFisher{Float64}(μ=[0.707107, 0.707107, 0.0], κ=1.41421), Distributions.VonMisesFisher{Float64}(μ=[0.707107, 0.707107, 0.0], κ=1.41421), Distributions.VonMisesFisher{Float64}(μ=[0.707107, 0.707107, 0.0], κ=1.41421), Distributions.VonMisesFisher{Float64}(μ=[0.707107, 0.707107, 0.0], κ=1.41421), Distributions.VonMisesFisher{Float64}(μ=[0.707107, 0.707107, 0.0], κ=1.41421), Distributions.VonMisesFisher{Float64}(μ=[0.707107, 0.707107, 0.0], κ=1.41421), Distributions.VonMisesFisher{Float64}(μ=[0.707107, 0.707107, 0.0], κ=1.41421), Distributions.VonMisesFisher{Float64}(μ=[0.707107, 0.707107, 0.0], κ=1.41421), Distributions.VonMisesFisher{Float64}(μ=[0.707107, 0.707107, 0.0], κ=1.41421)]\n"
     ]
    }
   ],
   "source": [
    "x = []\n",
    "update = [1,1,0]\n",
    "for i in 1:20\n",
    "    point = VonMisesFisher(update)\n",
    "    push!(x, point)\n",
    "    update = point\n",
    "end\n",
    "println(x)"
   ]
  },
  {
   "cell_type": "code",
   "execution_count": 61,
   "metadata": {},
   "outputs": [
    {
     "ename": "LoadError",
     "evalue": "\u001b[91mPyError (ccall(@pysym(:PyObject_Call), PyPtr, (PyPtr, PyPtr, PyPtr), o, arg, kw)) <class 'TypeError'>\nTypeError(\"'module' object is not callable\",)\n\u001b[39m",
     "output_type": "error",
     "traceback": [
      "\u001b[91mPyError (ccall(@pysym(:PyObject_Call), PyPtr, (PyPtr, PyPtr, PyPtr), o, arg, kw)) <class 'TypeError'>\nTypeError(\"'module' object is not callable\",)\n\u001b[39m",
      "",
      "Stacktrace:",
      " [1] \u001b[1mpyerr_check\u001b[22m\u001b[22m at \u001b[1m/home/megan/.julia/v0.6/PyCall/src/exception.jl:60\u001b[22m\u001b[22m [inlined]",
      " [2] \u001b[1mpyerr_check\u001b[22m\u001b[22m at \u001b[1m/home/megan/.julia/v0.6/PyCall/src/exception.jl:64\u001b[22m\u001b[22m [inlined]",
      " [3] \u001b[1mmacro expansion\u001b[22m\u001b[22m at \u001b[1m/home/megan/.julia/v0.6/PyCall/src/exception.jl:84\u001b[22m\u001b[22m [inlined]",
      " [4] \u001b[1m#_pycall#86\u001b[22m\u001b[22m\u001b[1m(\u001b[22m\u001b[22m::Array{Any,1}, ::Function, ::PyCall.PyObject, ::Tuple{Array{Float64,1},Array{Float64,1},Array{PyCall.PyObject,1}}, ::Vararg{Tuple{Array{Float64,1},Array{Float64,1},Array{PyCall.PyObject,1}},N} where N\u001b[1m)\u001b[22m\u001b[22m at \u001b[1m/home/megan/.julia/v0.6/PyCall/src/PyCall.jl:714\u001b[22m\u001b[22m",
      " [5] \u001b[1m(::PyCall.#kw##_pycall)\u001b[22m\u001b[22m\u001b[1m(\u001b[22m\u001b[22m::Array{Any,1}, ::PyCall.#_pycall, ::PyCall.PyObject, ::Tuple{Array{Float64,1},Array{Float64,1},Array{PyCall.PyObject,1}}, ::Vararg{Tuple{Array{Float64,1},Array{Float64,1},Array{PyCall.PyObject,1}},N} where N\u001b[1m)\u001b[22m\u001b[22m at \u001b[1m./<missing>:0\u001b[22m\u001b[22m",
      " [6] \u001b[1m#pycall#90\u001b[22m\u001b[22m\u001b[1m(\u001b[22m\u001b[22m::Array{Any,1}, ::Function, ::PyCall.PyObject, ::Type{PyCall.PyAny}, ::Tuple{Array{Float64,1},Array{Float64,1},Array{PyCall.PyObject,1}}, ::Vararg{Tuple{Array{Float64,1},Array{Float64,1},Array{PyCall.PyObject,1}},N} where N\u001b[1m)\u001b[22m\u001b[22m at \u001b[1m/home/megan/.julia/v0.6/PyCall/src/PyCall.jl:731\u001b[22m\u001b[22m",
      " [7] \u001b[1m(::PyCall.#kw##pycall)\u001b[22m\u001b[22m\u001b[1m(\u001b[22m\u001b[22m::Array{Any,1}, ::PyCall.#pycall, ::PyCall.PyObject, ::Type{PyCall.PyAny}, ::Tuple{Array{Float64,1},Array{Float64,1},Array{PyCall.PyObject,1}}, ::Vararg{Tuple{Array{Float64,1},Array{Float64,1},Array{PyCall.PyObject,1}},N} where N\u001b[1m)\u001b[22m\u001b[22m at \u001b[1m./<missing>:0\u001b[22m\u001b[22m",
      " [8] \u001b[1m#call#91\u001b[22m\u001b[22m\u001b[1m(\u001b[22m\u001b[22m::Array{Any,1}, ::PyCall.PyObject, ::Tuple{Array{Float64,1},Array{Float64,1},Array{PyCall.PyObject,1}}, ::Vararg{Tuple{Array{Float64,1},Array{Float64,1},Array{PyCall.PyObject,1}},N} where N\u001b[1m)\u001b[22m\u001b[22m at \u001b[1m/home/megan/.julia/v0.6/PyCall/src/PyCall.jl:734\u001b[22m\u001b[22m",
      " [9] \u001b[1m(::PyCall.#kw#PyObject)\u001b[22m\u001b[22m\u001b[1m(\u001b[22m\u001b[22m::Array{Any,1}, ::PyCall.PyObject, ::Tuple{Array{Float64,1},Array{Float64,1},Array{PyCall.PyObject,1}}, ::Vararg{Tuple{Array{Float64,1},Array{Float64,1},Array{PyCall.PyObject,1}},N} where N\u001b[1m)\u001b[22m\u001b[22m at \u001b[1m./<missing>:0\u001b[22m\u001b[22m",
      " [10] \u001b[1minclude_string\u001b[22m\u001b[22m\u001b[1m(\u001b[22m\u001b[22m::String, ::String\u001b[1m)\u001b[22m\u001b[22m at \u001b[1m./loading.jl:522\u001b[22m\u001b[22m"
     ]
    }
   ],
   "source": [
    "using PyPlot\n",
    "using Plots;\n",
    "a = rand(100)\n",
    "b = rand(50)\n",
    "# plt.hist(x,5)\n",
    "p1 = plt[:hist](a)\n",
    "p2 = plt[:hist](b)\n",
    "\n",
    "plt(p1,p2,layout=(1,2),legend=false)"
   ]
  },
  {
   "cell_type": "code",
   "execution_count": 50,
   "metadata": {},
   "outputs": [
    {
     "ename": "LoadError",
     "evalue": "\u001b[91mUndefVarError: plot not defined\u001b[39m",
     "output_type": "error",
     "traceback": [
      "\u001b[91mUndefVarError: plot not defined\u001b[39m",
      "",
      "Stacktrace:",
      " [1] \u001b[1minclude_string\u001b[22m\u001b[22m\u001b[1m(\u001b[22m\u001b[22m::String, ::String\u001b[1m)\u001b[22m\u001b[22m at \u001b[1m./loading.jl:522\u001b[22m\u001b[22m"
     ]
    }
   ],
   "source": [
    "using Plots\n",
    "pyplot() # chooses pyplot background\n",
    "x = rand(100); y = rand(100)\n",
    "plt1 = plot(x)\n",
    "display(plt1)\n",
    "plt2 = plot(y, reuse = false)\n",
    "display(plt2)"
   ]
  },
  {
   "cell_type": "code",
   "execution_count": 62,
   "metadata": {},
   "outputs": [
    {
     "ename": "LoadError",
     "evalue": "\u001b[91mUndefVarError: plot not defined\u001b[39m",
     "output_type": "error",
     "traceback": [
      "\u001b[91mUndefVarError: plot not defined\u001b[39m",
      "",
      "Stacktrace:",
      " [1] \u001b[1minclude_string\u001b[22m\u001b[22m\u001b[1m(\u001b[22m\u001b[22m::String, ::String\u001b[1m)\u001b[22m\u001b[22m at \u001b[1m./loading.jl:522\u001b[22m\u001b[22m"
     ]
    }
   ],
   "source": [
    "using Plots\n",
    "x = 1:10; y = rand(10); # These are the plotting data\n",
    "plot(x,y)"
   ]
  },
  {
   "cell_type": "code",
   "execution_count": 68,
   "metadata": {},
   "outputs": [
    {
     "ename": "LoadError",
     "evalue": "\u001b[91mUndefVarError: plot not defined\u001b[39m",
     "output_type": "error",
     "traceback": [
      "\u001b[91mUndefVarError: plot not defined\u001b[39m",
      "",
      "Stacktrace:",
      " [1] \u001b[1minclude_string\u001b[22m\u001b[22m\u001b[1m(\u001b[22m\u001b[22m::String, ::String\u001b[1m)\u001b[22m\u001b[22m at \u001b[1m./loading.jl:522\u001b[22m\u001b[22m"
     ]
    },
    {
     "name": "stderr",
     "output_type": "stream",
     "text": [
      "\u001b[1m\u001b[33mWARNING: \u001b[39m\u001b[22m\u001b[33msin(x::AbstractArray{T}) where T <: Number is deprecated, use sin.(x) instead.\u001b[39m\n",
      "Stacktrace:\n",
      " [1] \u001b[1mdepwarn\u001b[22m\u001b[22m\u001b[1m(\u001b[22m\u001b[22m::String, ::Symbol\u001b[1m)\u001b[22m\u001b[22m at \u001b[1m./deprecated.jl:70\u001b[22m\u001b[22m\n",
      " [2] \u001b[1msin\u001b[22m\u001b[22m\u001b[1m(\u001b[22m\u001b[22m::Array{Float64,1}\u001b[1m)\u001b[22m\u001b[22m at \u001b[1m./deprecated.jl:57\u001b[22m\u001b[22m\n",
      " [3] \u001b[1minclude_string\u001b[22m\u001b[22m\u001b[1m(\u001b[22m\u001b[22m::String, ::String\u001b[1m)\u001b[22m\u001b[22m at \u001b[1m./loading.jl:522\u001b[22m\u001b[22m\n",
      " [4] \u001b[1minclude_string\u001b[22m\u001b[22m\u001b[1m(\u001b[22m\u001b[22m::Module, ::String, ::String\u001b[1m)\u001b[22m\u001b[22m at \u001b[1m/home/megan/.julia/v0.6/Compat/src/Compat.jl:88\u001b[22m\u001b[22m\n",
      " [5] \u001b[1mexecute_request\u001b[22m\u001b[22m\u001b[1m(\u001b[22m\u001b[22m::ZMQ.Socket, ::IJulia.Msg\u001b[1m)\u001b[22m\u001b[22m at \u001b[1m/home/megan/.julia/v0.6/IJulia/src/execute_request.jl:180\u001b[22m\u001b[22m\n",
      " [6] \u001b[1m(::Compat.#inner#14{Array{Any,1},IJulia.#execute_request,Tuple{ZMQ.Socket,IJulia.Msg}})\u001b[22m\u001b[22m\u001b[1m(\u001b[22m\u001b[22m\u001b[1m)\u001b[22m\u001b[22m at \u001b[1m/home/megan/.julia/v0.6/Compat/src/Compat.jl:332\u001b[22m\u001b[22m\n",
      " [7] \u001b[1meventloop\u001b[22m\u001b[22m\u001b[1m(\u001b[22m\u001b[22m::ZMQ.Socket\u001b[1m)\u001b[22m\u001b[22m at \u001b[1m/home/megan/.julia/v0.6/IJulia/src/eventloop.jl:8\u001b[22m\u001b[22m\n",
      " [8] \u001b[1m(::IJulia.##15#18)\u001b[22m\u001b[22m\u001b[1m(\u001b[22m\u001b[22m\u001b[1m)\u001b[22m\u001b[22m at \u001b[1m./task.jl:335\u001b[22m\u001b[22m\n",
      "while loading In[68], in expression starting on line 3\n"
     ]
    }
   ],
   "source": [
    "using PyPlot\n",
    "x = -2pi:0.1:2pi;\n",
    "plot(x, sin(x.^2)./x);"
   ]
  },
  {
   "cell_type": "code",
   "execution_count": 71,
   "metadata": {},
   "outputs": [
    {
     "ename": "LoadError",
     "evalue": "\u001b[91mUndefVarError: plot not defined\u001b[39m",
     "output_type": "error",
     "traceback": [
      "\u001b[91mUndefVarError: plot not defined\u001b[39m",
      "",
      "Stacktrace:",
      " [1] \u001b[1minclude_string\u001b[22m\u001b[22m\u001b[1m(\u001b[22m\u001b[22m::String, ::String\u001b[1m)\u001b[22m\u001b[22m at \u001b[1m./loading.jl:522\u001b[22m\u001b[22m"
     ]
    }
   ],
   "source": [
    "using Plots;\n",
    "\n",
    "x = 1:10; y = rand(10,2) # 2 columns means two lines\n",
    "p = plot(x,y)\n",
    "z = rand(10)\n",
    "plot!(p,x,z)\n"
   ]
  },
  {
   "cell_type": "code",
   "execution_count": 70,
   "metadata": {},
   "outputs": [
    {
     "ename": "LoadError",
     "evalue": "\u001b[91mUndefVarError: plot not defined\u001b[39m",
     "output_type": "error",
     "traceback": [
      "\u001b[91mUndefVarError: plot not defined\u001b[39m",
      "",
      "Stacktrace:",
      " [1] \u001b[1minclude_string\u001b[22m\u001b[22m\u001b[1m(\u001b[22m\u001b[22m::String, ::String\u001b[1m)\u001b[22m\u001b[22m at \u001b[1m./loading.jl:522\u001b[22m\u001b[22m"
     ]
    }
   ],
   "source": [
    "using Plots\n",
    "plt = plot(rand(4,4))\n",
    "display(plt)"
   ]
  },
  {
   "cell_type": "code",
   "execution_count": null,
   "metadata": {},
   "outputs": [],
   "source": []
  },
  {
   "cell_type": "code",
   "execution_count": null,
   "metadata": {},
   "outputs": [],
   "source": []
  }
 ],
 "metadata": {
  "kernelspec": {
   "display_name": "Julia 0.6.2",
   "language": "julia",
   "name": "julia-0.6"
  },
  "language_info": {
   "file_extension": ".jl",
   "mimetype": "application/julia",
   "name": "julia",
   "version": "0.6.2"
  }
 },
 "nbformat": 4,
 "nbformat_minor": 2
}
