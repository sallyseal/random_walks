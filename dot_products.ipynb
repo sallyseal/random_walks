{
 "cells": [
  {
   "cell_type": "code",
   "execution_count": 1,
   "metadata": {},
   "outputs": [
    {
     "ename": "LoadError",
     "evalue": "\u001b[91mMethodError: no method matching *(::Tuple{Int64,Int64,Int64}, ::Tuple{Int64,Int64,Int64})\u001b[0m\nClosest candidates are:\n  *(::Any, ::Any, \u001b[91m::Any\u001b[39m, \u001b[91m::Any...\u001b[39m) at operators.jl:424\u001b[39m",
     "output_type": "error",
     "traceback": [
      "\u001b[91mMethodError: no method matching *(::Tuple{Int64,Int64,Int64}, ::Tuple{Int64,Int64,Int64})\u001b[0m\nClosest candidates are:\n  *(::Any, ::Any, \u001b[91m::Any\u001b[39m, \u001b[91m::Any...\u001b[39m) at operators.jl:424\u001b[39m",
      ""
     ]
    }
   ],
   "source": []
  },
  {
   "cell_type": "code",
   "execution_count": 7,
   "metadata": {},
   "outputs": [
    {
     "data": {
      "text/plain": [
       "(-3, 4, 3)"
      ]
     },
     "execution_count": 7,
     "metadata": {},
     "output_type": "execute_result"
    }
   ],
   "source": [
    "x = (-3,4,3)"
   ]
  },
  {
   "cell_type": "code",
   "execution_count": 8,
   "metadata": {},
   "outputs": [
    {
     "data": {
      "text/plain": [
       "(-1, 5, -3)"
      ]
     },
     "execution_count": 8,
     "metadata": {},
     "output_type": "execute_result"
    }
   ],
   "source": [
    "y = (-1,5,-3)"
   ]
  },
  {
   "cell_type": "code",
   "execution_count": 11,
   "metadata": {},
   "outputs": [
    {
     "ename": "LoadError",
     "evalue": "\u001b[91mMethodError: no method matching size(::Tuple{Int64,Int64,Int64})\u001b[0m\nClosest candidates are:\n  size(::Tuple, \u001b[91m::Any\u001b[39m) at tuple.jl:20\n  size(::Any, \u001b[91m::Integer\u001b[39m, \u001b[91m::Integer\u001b[39m, \u001b[91m::Integer...\u001b[39m) where N at abstractarray.jl:30\n  size(\u001b[91m::Char\u001b[39m) at char.jl:13\n  ...\u001b[39m",
     "output_type": "error",
     "traceback": [
      "\u001b[91mMethodError: no method matching size(::Tuple{Int64,Int64,Int64})\u001b[0m\nClosest candidates are:\n  size(::Tuple, \u001b[91m::Any\u001b[39m) at tuple.jl:20\n  size(::Any, \u001b[91m::Integer\u001b[39m, \u001b[91m::Integer\u001b[39m, \u001b[91m::Integer...\u001b[39m) where N at abstractarray.jl:30\n  size(\u001b[91m::Char\u001b[39m) at char.jl:13\n  ...\u001b[39m",
      ""
     ]
    }
   ],
   "source": [
    "size(x)"
   ]
  },
  {
   "cell_type": "code",
   "execution_count": 19,
   "metadata": {},
   "outputs": [
    {
     "data": {
      "text/plain": [
       "1.1528988910950526"
      ]
     },
     "execution_count": 19,
     "metadata": {},
     "output_type": "execute_result"
    }
   ],
   "source": [
    "turn_angle = acos(vecdot(x,y)/sqrt(sum(x.*x)*sum(y.*y)))"
   ]
  },
  {
   "cell_type": "code",
   "execution_count": 16,
   "metadata": {},
   "outputs": [
    {
     "data": {
      "text/plain": [
       "35"
      ]
     },
     "execution_count": 16,
     "metadata": {},
     "output_type": "execute_result"
    }
   ],
   "source": [
    "sum(y.*y)"
   ]
  },
  {
   "cell_type": "code",
   "execution_count": 8,
   "metadata": {},
   "outputs": [
    {
     "name": "stdout",
     "output_type": "stream",
     "text": [
      "radians: 1.1528988910950526\n",
      "degrees: 66.05624066505925\n"
     ]
    }
   ],
   "source": [
    "# Function that calculates the angle between two vectors in 3Dim space\n",
    "# Input is 2 points in 3D space eg (1,2,3) and (4,5,6)\n",
    "# Output is in radians and degrees\n",
    "\n",
    "# Can use vecdot to get the numerator\n",
    "# Write custom code for denominator \n",
    "x = (-3,4,3)\n",
    "y = (-1,5,-3)\n",
    "a = vecdot(x,y)\n",
    "\n",
    "numerator = a\n",
    "denom = sqrt(x[1]^2 + x[2]^2 + x[3]^2) * sqrt(y[1]^2 + y[2]^2 + y[3]^2)\n",
    "theta_rad = acos(numerator/denom)\n",
    "theta_deg = theta_rad * 180 / pi\n",
    "\n",
    "println(\"radians: \", theta_rad)\n",
    "println(\"degrees: \", theta_deg)"
   ]
  },
  {
   "cell_type": "code",
   "execution_count": 23,
   "metadata": {},
   "outputs": [
    {
     "data": {
      "text/plain": [
       "1.1528988910950526"
      ]
     },
     "execution_count": 23,
     "metadata": {},
     "output_type": "execute_result"
    }
   ],
   "source": [
    "c_0 = -1,5,-3\n",
    "c_1 = -3,4,3\n",
    "turn_angle = acos(vecdot(c_0,c_1)/sqrt(sum(c_0.*c_0)*sum(c_1.*c_1)))"
   ]
  },
  {
   "cell_type": "code",
   "execution_count": null,
   "metadata": {},
   "outputs": [],
   "source": []
  },
  {
   "cell_type": "code",
   "execution_count": null,
   "metadata": {},
   "outputs": [],
   "source": []
  }
 ],
 "metadata": {
  "kernelspec": {
   "display_name": "Julia 0.6.2",
   "language": "julia",
   "name": "julia-0.6"
  },
  "language_info": {
   "file_extension": ".jl",
   "mimetype": "application/julia",
   "name": "julia",
   "version": "0.6.2"
  }
 },
 "nbformat": 4,
 "nbformat_minor": 2
}
